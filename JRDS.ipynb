{
 "cells": [
  {
   "cell_type": "code",
   "execution_count": null,
   "id": "dac0d8a1-3baf-43d5-bb0c-1a41e5008fcd",
   "metadata": {},
   "outputs": [],
   "source": [
    "import numpy as np\n",
    "import pandas as pd\n",
    "import math\n",
    "import sys\n",
    "import random\n",
    "from ipynb.fs.full.Formulas import *\n",
    "from ipynb.fs.full.Environment import *\n",
    "from ipynb.fs.full.Flow_Grouping_Algo import *"
   ]
  },
  {
   "cell_type": "code",
   "execution_count": null,
   "id": "ca91767d-8d19-4d1c-a574-1247685f19e1",
   "metadata": {},
   "outputs": [],
   "source": [
    "def flows_classifier():\n",
    "    set_of_direct_flows = set()\n",
    "    set_of_relay_flows = set()\n",
    "    candidate_relay_set_for_relay_flows = {}\n",
    "    for i in range(1,number_of_flows+1):\n",
    "        relay_type, candidate_relay_set, _ = flows_candidate_relay_set_pairs[str([i,0.0])]\n",
    "        if relay_type == 'dont_relay':\n",
    "            set_of_direct_flows.add(i)\n",
    "        else:\n",
    "            set_of_relay_flows.add(i)\n",
    "            candidate_relay_set_for_relay_flows[i] = candidate_relay_set\n",
    "    return set_of_direct_flows, set_of_relay_flows, candidate_relay_set_for_relay_flows"
   ]
  },
  {
   "cell_type": "code",
   "execution_count": null,
   "id": "772b9214-fa71-4307-bbed-8ead9414d09c",
   "metadata": {},
   "outputs": [],
   "source": [
    "set_of_direct_flows, set_of_relay_flows, candidate_relay_set_for_relay_flows = flows_classifier()"
   ]
  },
  {
   "cell_type": "code",
   "execution_count": null,
   "id": "12aaf7e3-50dd-4aec-b0a3-0fc9a4827ca9",
   "metadata": {},
   "outputs": [],
   "source": [
    "def DGroup(Va, Ea, G):\n",
    "    # Obtain edges among Va and existing relay flows in group G\n",
    "    Edr = get_edges_among_Va_and_G(Va, G)\n",
    "    E = Ea + Edr\n",
    "    DG = generateGroup(Va, E)\n",
    "    return DG\n",
    "\n",
    "def RGroup(Vr, Rg, G):\n",
    "    RG = set()\n",
    "    for v in Vr:\n",
    "        for r in Rg[v]:\n",
    "            if not is_collided(v, r, G + RG):\n",
    "                RG.add(r)\n",
    "                break\n",
    "    return RG\n",
    "\n",
    "def JRDS(Va, Ea, Vr, Rg, M):\n",
    "    G = set()\n",
    "    m = 0\n",
    "    U = 0\n",
    "\n",
    "    while True:\n",
    "        m += 1\n",
    "        # Update the coordinates of vehicles and UAVs\n",
    "        update_coordinates(Va, Vr)\n",
    "        \n",
    "        # Obtain optional relay set for each flow\n",
    "        Rg = obtain_optional_relay_set(Va, Vr)\n",
    "\n",
    "        # Check if some flow in G is newly completed\n",
    "        if some_flow_completed_in_G(G):\n",
    "            # Obtain completed flows in G'\n",
    "            G_prime = obtain_completed_flows(G)\n",
    "            # Update G\n",
    "            G -= G_prime\n",
    "            Va -= G_prime  # Update Va\n",
    "            Vr -= G_prime  # Update Vr\n",
    "\n",
    "        # Form new groups for flows that can transmit concurrently\n",
    "        G += DGroup(Va, Ea, G)\n",
    "        G += RGroup(Vr, Rg, G)\n",
    "\n",
    "        # Check if all flows have been accomplished\n",
    "        if all_flows_completed(Va, Vr):\n",
    "            break\n",
    "\n",
    "    U = calculate_system_throughput(G, M)\n",
    "    return G, m, U\n"
   ]
  }
 ],
 "metadata": {
  "kernelspec": {
   "display_name": "Python 3 (ipykernel)",
   "language": "python",
   "name": "python3"
  },
  "language_info": {
   "codemirror_mode": {
    "name": "ipython",
    "version": 3
   },
   "file_extension": ".py",
   "mimetype": "text/x-python",
   "name": "python",
   "nbconvert_exporter": "python",
   "pygments_lexer": "ipython3",
   "version": "3.12.2"
  }
 },
 "nbformat": 4,
 "nbformat_minor": 5
}
