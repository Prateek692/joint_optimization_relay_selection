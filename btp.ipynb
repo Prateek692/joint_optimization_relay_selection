{
 "cells": [
  {
   "cell_type": "code",
   "execution_count": 1,
   "metadata": {
    "id": "whAjB2P-bK44"
   },
   "outputs": [],
   "source": [
    "import numpy as np\n",
    "import pandas as pd\n",
    "import matplotlib.pyplot as plt\n",
    "import math\n",
    "from scipy.special import i0"
   ]
  },
  {
   "cell_type": "code",
   "execution_count": 2,
   "metadata": {
    "colab": {
     "base_uri": "https://localhost:8080/"
    },
    "id": "914Y9StueFdt",
    "outputId": "a8505be4-36d1-4f73-d375-767869ddf462"
   },
   "outputs": [
    {
     "name": "stdout",
     "output_type": "stream",
     "text": [
      "Source: John\n",
      "Destination: Alice\n",
      "Message: Hello, how are you?\n"
     ]
    }
   ],
   "source": [
    "class Message_Packet:\n",
    "    def __init__(self, source: str, destination: str, message: str):\n",
    "        self.source = source\n",
    "        self.destination = destination\n",
    "        self.message = message\n",
    "\n",
    "    def __str__(self):\n",
    "        return f\"Source: {self.source}\\nDestination: {self.destination}\\nMessage: {self.message}\"\n",
    "\n",
    "# Example usage:\n",
    "if __name__ == \"__main__\":\n",
    "    # Creating an instance of Message class\n",
    "    msg = Message_Packet(\"John\", \"Alice\", \"Hello, how are you?\")\n",
    "    print(msg)\n"
   ]
  },
  {
   "cell_type": "code",
   "execution_count": 3,
   "metadata": {
    "colab": {
     "base_uri": "https://localhost:8080/"
    },
    "id": "q3twATpte-Oc",
    "outputId": "e4b439dc-2f83-4d53-964a-752ee80f38c1"
   },
   "outputs": [
    {
     "name": "stdout",
     "output_type": "stream",
     "text": [
      "Nodes: ['A', 'B', 'C', 'D']\n",
      "Edges: [('A', 'B'), ('B', 'C'), ('C', 'D'), ('D', 'A')]\n"
     ]
    }
   ],
   "source": [
    "class Graph:\n",
    "    def __init__(self):\n",
    "        self.nodes = {}\n",
    "        self.edges = []\n",
    "\n",
    "    def add_node(self, node):\n",
    "        if node not in self.nodes:\n",
    "            self.nodes[node] = []\n",
    "\n",
    "    def add_edge(self, node1, node2):\n",
    "        self.add_node(node1)\n",
    "        self.add_node(node2)\n",
    "        self.nodes[node1].append(node2)\n",
    "        self.nodes[node2].append(node1)\n",
    "        self.edges.append((node1, node2))\n",
    "\n",
    "    def __str__(self):\n",
    "        return f\"Nodes: {list(self.nodes.keys())}\\nEdges: {self.edges}\"\n",
    "\n",
    "# Example usage:\n",
    "if __name__ == \"__main__\":\n",
    "    graph = Graph()\n",
    "    graph.add_edge('A', 'B')\n",
    "    graph.add_edge('B', 'C')\n",
    "    graph.add_edge('C', 'D')\n",
    "    graph.add_edge('D', 'A')\n",
    "\n",
    "    print(graph)\n"
   ]
  },
  {
   "cell_type": "code",
   "execution_count": 4,
   "metadata": {
    "colab": {
     "base_uri": "https://localhost:8080/"
    },
    "id": "hJ-cHIk0fnD2",
    "outputId": "6255fac0-d482-4457-c18d-d75253974555"
   },
   "outputs": [
    {
     "name": "stdout",
     "output_type": "stream",
     "text": [
      "Source: A\n",
      "Destination: B\n",
      "Message: Hello, how are you?\n"
     ]
    }
   ],
   "source": [
    "class Graph:\n",
    "    def __init__(self):\n",
    "        self.nodes = {}\n",
    "        self.edges = []\n",
    "\n",
    "    def add_node(self, node):\n",
    "        if node not in self.nodes:\n",
    "            self.nodes[node] = []\n",
    "\n",
    "    def add_edge(self, node1, node2):\n",
    "        self.add_node(node1)\n",
    "        self.add_node(node2)\n",
    "        self.nodes[node1].append(node2)\n",
    "        self.nodes[node2].append(node1)\n",
    "        self.edges.append((node1, node2))\n",
    "\n",
    "    def __str__(self):\n",
    "        return f\"Nodes: {list(self.nodes.keys())}\\nEdges: {self.edges}\"\n",
    "\n",
    "class Message:\n",
    "    def __init__(self, source: str, destination: str, message: str):\n",
    "        self.source = source\n",
    "        self.destination = destination\n",
    "        self.message = message\n",
    "\n",
    "    def __str__(self):\n",
    "        return f\"Source: {self.source}\\nDestination: {self.destination}\\nMessage: {self.message}\"\n",
    "\n",
    "# Example usage:\n",
    "if __name__ == \"__main__\":\n",
    "    graph = Graph()\n",
    "    graph.add_edge('A', 'B')\n",
    "    graph.add_edge('B', 'C')\n",
    "    graph.add_edge('C', 'D')\n",
    "    graph.add_edge('D', 'A')\n",
    "\n",
    "    msg = Message('A', 'B', 'Hello, how are you?')\n",
    "    print(msg)\n"
   ]
  },
  {
   "cell_type": "code",
   "execution_count": 2,
   "metadata": {
    "colab": {
     "base_uri": "https://localhost:8080/"
    },
    "id": "SAIcxkTamNf7",
    "outputId": "89838e5a-c4ed-41e4-91ce-41467b2ddb88"
   },
   "outputs": [
    {
     "name": "stdout",
     "output_type": "stream",
     "text": [
      "Khalistan\n"
     ]
    }
   ],
   "source": [
    "print('Khalistan')"
   ]
  },
  {
   "cell_type": "code",
   "execution_count": 2,
   "metadata": {
    "id": "ZRvbMN90kw-3"
   },
   "outputs": [],
   "source": [
    "def calculate_antenna_gain(max_gain: float,direction: float,half_power_beamwidth: float):\n",
    "  deduction=min((direction/half_power_beamwidth)**2,26)\n",
    "  gain=max_gain-deduction\n",
    "  return gain"
   ]
  },
  {
   "cell_type": "code",
   "execution_count": 3,
   "metadata": {
    "id": "DVcRv2bOmcSj"
   },
   "outputs": [],
   "source": [
    "# g here is channel power gain and m is parameter for Gama pehelwan function\n",
    "def calculate_channel_power_gain_distribution(g: float,m: int):\n",
    "  distribution=((1/m)**(-m))*(g**(m-1))*(math.e**(-1*(m*g)))\n",
    "  distribution/=math.gamma(m)\n",
    "  return distribution"
   ]
  },
  {
   "cell_type": "code",
   "execution_count": 4,
   "metadata": {
    "id": "4psn3qYYpiFj"
   },
   "outputs": [],
   "source": [
    "def calculate_received_signal_power_direct_link(wavelength: float,pl_exponent: float,transmission_power: float,max_gain: float,channel_power_gain: float,distance: float):\n",
    "    kv=(wavelength/(4*math.pi))**pl_exponent\n",
    "    signal_power=kv*transmission_power*max_gain*channel_power_gain*(distance**(-pl_exponent))\n",
    "    return signal_power"
   ]
  },
  {
   "cell_type": "code",
   "execution_count": 5,
   "metadata": {
    "id": "44Gbliucx1ac"
   },
   "outputs": [],
   "source": [
    "def calculate_mutual_interference(wavelength: float,pl_exponent: float,transmission_power: float,gain: float,channel_power_gain: float,distance: float):\n",
    "    kv=(wavelength/(4*math.pi))**pl_exponent\n",
    "    signal_power=kv*transmission_power*gain*channel_power_gain*(distance**(-pl_exponent))\n",
    "    return signal_power "
   ]
  },
  {
   "cell_type": "code",
   "execution_count": 6,
   "metadata": {},
   "outputs": [],
   "source": [
    "# beta= cancellation level\n",
    "def calculate_rsi(beta: float,transmission_power: float):\n",
    "    return beta*transmission_power"
   ]
  },
  {
   "cell_type": "code",
   "execution_count": 7,
   "metadata": {},
   "outputs": [],
   "source": [
    "# n=no of flows, n0 = noise power spectral density, w = channel bandwidth\n",
    "# eta= efficiency\n",
    "def calculate_sinr_and_datarate_v2v(n: int,n0: float,w: float,rsi: float,eta: float,received_signal_power,a,b):\n",
    "    sinr=np.empty(n+1)\n",
    "    datarate=np.empty(n+1)\n",
    "    for i in range(1,n+1):\n",
    "        num=received_signal_power[i][i]\n",
    "        denom=n0*w\n",
    "        for j in range(1,n+1):\n",
    "            if j==i:\n",
    "                continue\n",
    "            denom+=(a[i][j]*received_signal_power[j][i])+(b[i][j]*rsi)\n",
    "        sinr[i]=num/denom\n",
    "        datarate[i]=eta*w*math.log2(1+sinr[i])\n",
    "    return sinr,datarate"
   ]
  },
  {
   "cell_type": "code",
   "execution_count": 8,
   "metadata": {},
   "outputs": [],
   "source": [
    "#k=rician factor\n",
    "def calculate_non_central_chi_square_distribution(k,total_power,w,i0):\n",
    "    ans=((k+1)*math.exp(-k))/total_power\n",
    "    ans*=math.exp((-(k+1)*w)/total_power)\n",
    "    ans*=i0(2*math.sqrt((k*(k+1)*w)/total_power))\n",
    "    return ans"
   ]
  },
  {
   "cell_type": "code",
   "execution_count": 9,
   "metadata": {},
   "outputs": [],
   "source": [
    "def calculate_sinr_and_datarate_u2v(n,wavelength,pl_exponent,transmit_power_uav,max_gain,distance_u2v,power_fading,n0,eta,w,rsi,received_signal_power,a,b):\n",
    "    sinr=np.empty(n+1)\n",
    "    datarate=np.empty(n+1)\n",
    "    ku=(wavelength/(4*math.pi))**pl_exponent\n",
    "    for k in range(1,n+1):\n",
    "        num=ku*transmit_power_uav*max_gain*power_fading*(distance_u2v[k]**(-pl_exponent))\n",
    "        denom=n0*w\n",
    "        for i in range(1,n+1):\n",
    "            if i==k:\n",
    "                continue\n",
    "            denom+=(a[k][i]*received_signal_power[i][k])+(b[k][i]*rsi)\n",
    "        sinr[k]=num/denom\n",
    "        datarate[k]=eta*w*math.log2(1+sinr[k])\n",
    "    return sinr,datarate"
   ]
  },
  {
   "cell_type": "code",
   "execution_count": 10,
   "metadata": {},
   "outputs": [],
   "source": [
    "def calculate_sinr_and_datarate_v2u(n,wavelength,pl_exponent,transmission_power,max_gain,distance_v2u,power_fading,n0,w,eta):\n",
    "    sinr=np.empty(n+1)\n",
    "    datarate=np.empty(n+1)\n",
    "    kv=(wavelength/(4*math.pi))**pl_exponent\n",
    "    for k in range(1,n+1):\n",
    "        num=kv*transmission_power*max_gain*power_fading*(distance_v2u[k]**(-pl_exponent))\n",
    "        denom=n0*w\n",
    "        sinr[k]=num/denom\n",
    "        datarate[k]=eta*w*math.log2(1+sinr[k])\n",
    "    return sinr,datarate"
   ]
  },
  {
   "cell_type": "markdown",
   "metadata": {},
   "source": [
    "# Formulating Problem using Proposed Approach"
   ]
  },
  {
   "cell_type": "code",
   "execution_count": null,
   "metadata": {},
   "outputs": [],
   "source": []
  }
 ],
 "metadata": {
  "accelerator": "GPU",
  "colab": {
   "gpuType": "T4",
   "provenance": []
  },
  "kernelspec": {
   "display_name": "Python 3 (ipykernel)",
   "language": "python",
   "name": "python3"
  },
  "language_info": {
   "codemirror_mode": {
    "name": "ipython",
    "version": 3
   },
   "file_extension": ".py",
   "mimetype": "text/x-python",
   "name": "python",
   "nbconvert_exporter": "python",
   "pygments_lexer": "ipython3",
   "version": "3.12.1"
  }
 },
 "nbformat": 4,
 "nbformat_minor": 4
}
