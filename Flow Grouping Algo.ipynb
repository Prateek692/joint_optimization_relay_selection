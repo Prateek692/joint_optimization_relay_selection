{
 "cells": [
  {
   "cell_type": "code",
   "execution_count": 7,
   "id": "e47e4058-4a64-41c2-8b3a-00d3f9fe62b8",
   "metadata": {},
   "outputs": [],
   "source": [
    "import numpy as np\n",
    "import pandas as pd\n",
    "import matplotlib.pyplot as plt\n",
    "import math\n",
    "from scipy.special import i0"
   ]
  },
  {
   "cell_type": "code",
   "execution_count": 2,
   "id": "a7795a63-2fc8-43bd-b11d-258de9d11954",
   "metadata": {},
   "outputs": [
    {
     "name": "stdout",
     "output_type": "stream",
     "text": [
      "Source: John\n",
      "Destination: Alice\n",
      "Message: Hello, how are you?\n"
     ]
    }
   ],
   "source": [
    "class Message_Packet:\n",
    "    def __init__(self, source: str, destination: str, message: str):\n",
    "        self.source = source\n",
    "        self.destination = destination\n",
    "        self.message = message\n",
    "\n",
    "    def __str__(self):\n",
    "        return f\"Source: {self.source}\\nDestination: {self.destination}\\nMessage: {self.message}\"\n",
    "\n",
    "# Example usage:\n",
    "if __name__ == \"__main__\":\n",
    "    # Creating an instance of Message class\n",
    "    msg = Message_Packet(\"John\", \"Alice\", \"Hello, how are you?\")\n",
    "    print(msg)"
   ]
  },
  {
   "cell_type": "code",
   "execution_count": 4,
   "id": "2bbe74db-1f27-4cbe-9e37-d011abf04c60",
   "metadata": {},
   "outputs": [
    {
     "name": "stdout",
     "output_type": "stream",
     "text": [
      "Source: A\n",
      "Destination: B\n",
      "Message: Hello, how are you?\n"
     ]
    }
   ],
   "source": [
    "class Graph:\n",
    "    def __init__(self):\n",
    "        self.adj = {}\n",
    "    \n",
    "    def add_node(self, node):\n",
    "        if node not in self.adj:\n",
    "            self.adj[node] = []\n",
    "\n",
    "    def add_edge(self, node1, node2):\n",
    "        self.add_node(node1)\n",
    "        self.add_node(node2)\n",
    "        self.adj[node1].append(node2)\n",
    "        self.adj[node2].append(node1)\n",
    "        \n",
    "    def __str__(self):\n",
    "        return f\"Nodes: {list(self.adj.keys())}\"\n",
    "\n",
    "class Message:\n",
    "    def __init__(self, source: str, destination: str, message: str):\n",
    "        self.source = source\n",
    "        self.destination = destination\n",
    "        self.message = message\n",
    "\n",
    "    def __str__(self):\n",
    "        return f\"Source: {self.source}\\nDestination: {self.destination}\\nMessage: {self.message}\"\n",
    "\n",
    "# Example usage:\n",
    "if __name__ == \"__main__\":\n",
    "    graph = Graph()\n",
    "    graph.add_edge('A', 'B')\n",
    "    graph.add_edge('B', 'C')\n",
    "    graph.add_edge('C', 'D')\n",
    "    graph.add_edge('D', 'A')\n",
    "\n",
    "    msg = Message('A', 'B', 'Hello, how are you?')\n",
    "    print(msg)\n"
   ]
  },
  {
   "cell_type": "code",
   "execution_count": null,
   "id": "bb88ea58-83cf-4471-b6ca-d0b0af7db580",
   "metadata": {},
   "outputs": [],
   "source": []
  }
 ],
 "metadata": {
  "kernelspec": {
   "display_name": "Python 3 (ipykernel)",
   "language": "python",
   "name": "python3"
  },
  "language_info": {
   "codemirror_mode": {
    "name": "ipython",
    "version": 3
   },
   "file_extension": ".py",
   "mimetype": "text/x-python",
   "name": "python",
   "nbconvert_exporter": "python",
   "pygments_lexer": "ipython3",
   "version": "3.9.12"
  }
 },
 "nbformat": 4,
 "nbformat_minor": 5
}
