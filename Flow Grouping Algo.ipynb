{
 "cells": [
  {
   "cell_type": "code",
   "execution_count": 1,
   "id": "71188b5a-df08-4a6d-9e23-e5d2f6b8d236",
   "metadata": {},
   "outputs": [],
   "source": [
    "import pandas as pd\n",
    "import numpy as np\n",
    "from ipynb.fs.full.Formulas import *\n",
    "from ipynb.fs.full.Environment import *"
   ]
  },
  {
   "cell_type": "markdown",
   "id": "de816416-8a4e-4228-8958-745d50f9fe7c",
   "metadata": {},
   "source": [
    "# Created Graph class where vertice = flow and edge indicates contention between 2 particular flows"
   ]
  },
  {
   "cell_type": "code",
   "execution_count": 3,
   "id": "ee761930-a989-4153-8e33-c3c9d0d03c92",
   "metadata": {},
   "outputs": [],
   "source": [
    "class Graph:\n",
    "    def __init__(self):\n",
    "        self.adjacency_list = {}\n",
    "        self.edge_list = set()\n",
    "\n",
    "    def add_node(self, node):\n",
    "        if node not in self.adjacency_list:\n",
    "            self.adjacency_list[node] = set()\n",
    "\n",
    "    def add_edge(self, node1, node2):\n",
    "        self.add_node(node1)\n",
    "        self.add_node(node2)\n",
    "        self.adjacency_list[node1].add(node2)\n",
    "        self.adjacency_list[node2].add(node1)\n",
    "        self.edge_list.add((node1,node2))\n",
    "        self.edge_list.add((node2,node1))\n",
    "\n",
    "    def remove_edge(self, node1, node2):\n",
    "        if node1 in self.adjacency_list and node2 in self.adjacency_list:\n",
    "            if node2 in self.adjacency_list[node1]:\n",
    "                self.adjacency_list[node1].remove(node2)\n",
    "                self.adjacency_list[node2].remove(node1)\n",
    "        self.edge_list.remove((node1,node2))\n",
    "        self.edge_list.remove((node2,node1))\n",
    "\n",
    "    def get_nodes_by_degree(self):\n",
    "        nodes_with_degrees = [(node, len(neighbors)) for node, neighbors in self.adjacency_list.items()]\n",
    "        return [node for node, _ in sorted(nodes_with_degrees, key=lambda x: x[1])]\n",
    "\n",
    "    def is_edge(self,node1,node2):\n",
    "        return (node1,node2) in self.edge_list and (node2,node1) in self.edge_list"
   ]
  },
  {
   "cell_type": "markdown",
   "id": "ce8f203b-1ebc-41ed-bccf-f330bda238c0",
   "metadata": {},
   "source": [
    "### This function checks whether there is contention happening between 2 flows for concurrent transmissions"
   ]
  },
  {
   "cell_type": "code",
   "execution_count": 4,
   "id": "f45ebc0b-227c-408f-bc2f-e8d716caf5f1",
   "metadata": {},
   "outputs": [],
   "source": [
    "def check_create_edge(flow1,flow2):\n",
    "    flow1_sender = flow1[2]\n",
    "    flow1_receiver = flow1[3]\n",
    "    flow2_sender = flow2[2]\n",
    "    flow2_receiver = flow2[3]\n",
    "\n",
    "    if flow1_sender == flow2_sender or flow1_receiver == flow2_receiver: # 2 flows conflicting due to FD mode, therefore contention definitely happens\n",
    "        return True\n",
    "    # Contention occurs only if relative interference (RI) between 2 flows exceeds defined threshold value\n",
    "    elif flow1_sender == flow2_receiver and flow2_sender == flow1_receiver: \n",
    "        return calculate_relative_intereference1() > interference_threshold\n",
    "    elif flow1_sender == flow2_receiver:\n",
    "        return max(calculate_relative_intereference1(),calculate_relative_intereference2(flow2_sender,flow1_receiver)) > interference_threshold\n",
    "    elif flow2_sender == flow1_receiver:\n",
    "        return max(calculate_relative_intereference1(),calculate_relative_intereference2(flow1_sender,flow2_receiver)) > interference_threshold\n",
    "    else:\n",
    "        return max(calculate_relative_intereference2(flow1_sender,flow2_receiver),calculate_relative_intereference2(flow2_sender,flow1_receiver)) > interference_threshold"
   ]
  },
  {
   "cell_type": "markdown",
   "id": "3851c82e-ac27-49cf-8b0c-1d54af724c1e",
   "metadata": {},
   "source": [
    "# Generating dynamic contention graph between flows for each timestamp"
   ]
  },
  {
   "cell_type": "code",
   "execution_count": 5,
   "id": "db12d11e-29e0-4517-a30c-d0280d27e52b",
   "metadata": {},
   "outputs": [],
   "source": [
    "for current_time_slot in range(number_of_time_slots):\n",
    "    time = current_time_slot * slot_duration\n",
    "    # Creating a graph for each time slot\n",
    "    graph = Graph()\n",
    "    # Comparing flow pair at a time for graph connection\n",
    "    for flow1 in flows:\n",
    "        flow_with_time1 = [flow1[0].calculate_position(time), flow1[1].calculate_position(time), time]\n",
    "        flow_with_time1 = str(flow_with_time1)\n",
    "        relay_type1, candidate_set1, random_candidate1 = flows_candidate_relay_set_pairs[flow_with_time1]\n",
    "        # If flow 1 is not relayed OR there is no relaying candidate for flow, no need to include it in graph\n",
    "        if relay_type1 == 'dont_relay' or random_candidate1 == -1:\n",
    "            continue\n",
    "        for flow2 in flows:\n",
    "            if flow1.all() == flow2.all(): # Redundant because 2 flows are same so no need to calculate\n",
    "                continue\n",
    "            flow_with_time2 = [flow2[0].calculate_position(time), flow2[1].calculate_position(time), time]\n",
    "            flow_with_time2 = str(flow_with_time2)\n",
    "            relay_type2, candidate_set2, random_candidate2 = flows_candidate_relay_set_pairs[flow_with_time2]\n",
    "            # If flow 2 is not relayed OR there is no relaying candidate for flow, no need to include it in graph\n",
    "            if relay_type2 == 'dont_relay' or random_candidate2 == -1:\n",
    "                continue\n",
    "            # If random relaying candidate coincide for 2 flows OR there is contention between 2 flows, then connect those flows(nodes) via graph edge            if random_candidate1 == random_candidate2 or check_create_edge(flow1,flow2):   \n",
    "            graph.add_edge(tuple(flow1),tuple(flow2))\n",
    "\n",
    "    # Now we make groups in graph so that each group contains flows that are not in contention  \n",
    "    # List of groups of graqh, where elements in a single group aren't in contention with each other\n",
    "    groups = []\n",
    "    #List of flows sorted in ascending order of their degree(no of edges)\n",
    "    degree_sorted_node_list = graph.get_nodes_by_degree()\n",
    "    for node in degree_sorted_node_list:\n",
    "        found_group = False\n",
    "        for group in groups:\n",
    "            no_edge = True\n",
    "            for flow in group:\n",
    "                if graph.is_edge(node,flow): #If the node to be added is having contention with the flow in particular group, then we cant add them together\n",
    "                    no_edge = False\n",
    "                    break\n",
    "            if no_edge == True: #If no contention exists between node and flows of particular group, they can be kept together in same group \n",
    "                group.append(node)\n",
    "                found_group = True\n",
    "                break\n",
    "        if found_group == False: # If no suitable group is found for the flow, then create a new group for that flow altogether\n",
    "            groups.append([node])\n",
    "            \n",
    "            "
   ]
  },
  {
   "cell_type": "code",
   "execution_count": null,
   "id": "5d042b60-8688-43fc-977a-11d3e2629940",
   "metadata": {},
   "outputs": [],
   "source": []
  }
 ],
 "metadata": {
  "kernelspec": {
   "display_name": "Python 3 (ipykernel)",
   "language": "python",
   "name": "python3"
  },
  "language_info": {
   "codemirror_mode": {
    "name": "ipython",
    "version": 3
   },
   "file_extension": ".py",
   "mimetype": "text/x-python",
   "name": "python",
   "nbconvert_exporter": "python",
   "pygments_lexer": "ipython3",
   "version": "3.12.1"
  }
 },
 "nbformat": 4,
 "nbformat_minor": 5
}
