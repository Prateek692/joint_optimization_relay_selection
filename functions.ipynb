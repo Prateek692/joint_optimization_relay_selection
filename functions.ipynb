{
 "cells": [
  {
   "cell_type": "code",
   "execution_count": 1,
   "metadata": {
    "id": "whAjB2P-bK44"
   },
   "outputs": [],
   "source": [
    "import numpy as np\n",
    "import pandas as pd\n",
    "import matplotlib.pyplot as plt\n",
    "import math\n",
    "from scipy.special import i0"
   ]
  },
  {
   "cell_type": "code",
   "execution_count": 1,
   "metadata": {
    "colab": {
     "base_uri": "https://localhost:8080/"
    },
    "id": "SAIcxkTamNf7",
    "outputId": "89838e5a-c4ed-41e4-91ce-41467b2ddb88"
   },
   "outputs": [
    {
     "name": "stdout",
     "output_type": "stream",
     "text": [
      "Lassi\n"
     ]
    }
   ],
   "source": [
    "print('Lassi')"
   ]
  },
  {
   "cell_type": "markdown",
   "metadata": {},
   "source": [
    "![FORMULA](formula.png) "
   ]
  },
  {
   "cell_type": "code",
   "execution_count": null,
   "metadata": {},
   "outputs": [],
   "source": [
    "# Quantities declaration\n",
    "c=300000000\n",
    "carrier_frequency=30\n",
    "wavelength=c/(carrier_frequency*(10**9)) #Becuase freq in ghz\n",
    "number_of_flows=80\n",
    "number_of_time_slots=2000\n",
    "slot_duration=0.1\n",
    "fading_depth=2\n",
    "bg_noise=-134\n",
    "bandwidth=2000\n",
    "transmission_power=40\n",
    "avg_power_uav=30\n",
    "peak_power_uav=2*avg_power_uav\n",
    "transceiver_efficiency=0.8\n",
    "uav_height=100\n",
    "uav_speed=20\n",
    "pl_exponent_v2v=2.5\n",
    "pl_exponent_u2v=2\n",
    "rician=9\n",
    "interference_threshold=1/(10**3)\n",
    "si_cancellation_level=1/(10**9)\n",
    "max_gain=20\n",
    "half_power_beamwidth=30"
   ]
  },
  {
   "cell_type": "code",
   "execution_count": 2,
   "metadata": {
    "id": "ZRvbMN90kw-3"
   },
   "outputs": [],
   "source": [
    "def calculate_antenna_gain(max_gain: float,direction: float,half_power_beamwidth: float):\n",
    "  deduction=min((direction/half_power_beamwidth)**2,26)\n",
    "  gain=max_gain-deduction\n",
    "  return gain"
   ]
  },
  {
   "cell_type": "code",
   "execution_count": 3,
   "metadata": {
    "id": "DVcRv2bOmcSj"
   },
   "outputs": [],
   "source": [
    "# g here is channel power gain and m is parameter for Gama pehelwan function\n",
    "def calculate_channel_power_gain_distribution(g: float,m: int):\n",
    "  distribution=((1/m)**(-m))*(g**(m-1))*(math.e**(-1*(m*g)))\n",
    "  distribution/=math.gamma(m)\n",
    "  return distribution"
   ]
  },
  {
   "cell_type": "code",
   "execution_count": 4,
   "metadata": {
    "id": "4psn3qYYpiFj"
   },
   "outputs": [],
   "source": [
    "def calculate_received_signal_power_direct_link(pl_exponent: float,transmission_power: float,max_gain: float,channel_power_gain: float,distance: float):\n",
    "    kv=(wavelength/(4*math.pi))**pl_exponent\n",
    "    signal_power=kv*transmission_power*max_gain*channel_power_gain*(distance**(-pl_exponent))\n",
    "    return signal_power"
   ]
  },
  {
   "cell_type": "code",
   "execution_count": 5,
   "metadata": {
    "id": "44Gbliucx1ac"
   },
   "outputs": [],
   "source": [
    "def calculate_mutual_interference(pl_exponent: float,transmission_power: float,gain: float,channel_power_gain: float,distance: float):\n",
    "    kv=(wavelength/(4*math.pi))**pl_exponent\n",
    "    signal_power=kv*transmission_power*gain*channel_power_gain*(distance**(-pl_exponent))\n",
    "    return signal_power "
   ]
  },
  {
   "cell_type": "code",
   "execution_count": 6,
   "metadata": {},
   "outputs": [],
   "source": [
    "# beta= cancellation level\n",
    "def calculate_rsi(beta: float,transmission_power: float):\n",
    "    return beta*transmission_power"
   ]
  },
  {
   "cell_type": "code",
   "execution_count": 7,
   "metadata": {},
   "outputs": [],
   "source": [
    "# n=no of flows, n0 = noise power spectral density, w = channel bandwidth\n",
    "# eta= efficiency\n",
    "def calculate_sinr_and_datarate_v2v(n: int,n0: float,w: float,rsi: float,eta: float,received_signal_power,a,b):\n",
    "    sinr=np.empty(n+1)\n",
    "    datarate=np.empty(n+1)\n",
    "    for i in range(1,n+1):\n",
    "        num=received_signal_power[i][i]\n",
    "        denom=n0*w\n",
    "        for j in range(1,n+1):\n",
    "            if j==i:\n",
    "                continue\n",
    "            denom+=(a[i][j]*received_signal_power[j][i])+(b[i][j]*rsi)\n",
    "        sinr[i]=num/denom\n",
    "        datarate[i]=eta*w*math.log2(1+sinr[i])\n",
    "    return sinr,datarate"
   ]
  },
  {
   "cell_type": "code",
   "execution_count": 8,
   "metadata": {},
   "outputs": [],
   "source": [
    "#k=rician factor\n",
    "def calculate_non_central_chi_square_distribution(k,total_power,w,i0):\n",
    "    ans=((k+1)*math.exp(-k))/total_power\n",
    "    ans*=math.exp((-(k+1)*w)/total_power)\n",
    "    ans*=i0(2*math.sqrt((k*(k+1)*w)/total_power))\n",
    "    return ans"
   ]
  },
  {
   "cell_type": "code",
   "execution_count": 9,
   "metadata": {},
   "outputs": [],
   "source": [
    "def calculate_sinr_and_datarate_u2v(n,pl_exponent,transmit_power_uav,max_gain,distance_u2v,power_fading,n0,eta,w,rsi,received_signal_power,a,b):\n",
    "    sinr=np.empty(n+1)\n",
    "    datarate=np.empty(n+1)\n",
    "    ku=(wavelength/(4*math.pi))**pl_exponent\n",
    "    for k in range(1,n+1):\n",
    "        num=ku*transmit_power_uav*max_gain*power_fading*(distance_u2v[k]**(-pl_exponent))\n",
    "        denom=n0*w\n",
    "        for i in range(1,n+1):\n",
    "            if i==k:\n",
    "                continue\n",
    "            denom+=(a[k][i]*received_signal_power[i][k])+(b[k][i]*rsi)\n",
    "        sinr[k]=num/denom\n",
    "        datarate[k]=eta*w*math.log2(1+sinr[k])\n",
    "    return sinr,datarate"
   ]
  },
  {
   "cell_type": "code",
   "execution_count": 10,
   "metadata": {},
   "outputs": [],
   "source": [
    "def calculate_sinr_and_datarate_v2u(n,pl_exponent,transmission_power,max_gain,distance_v2u,power_fading,n0,w,eta):\n",
    "    sinr=np.empty(n+1)\n",
    "    datarate=np.empty(n+1)\n",
    "    kv=(wavelength/(4*math.pi))**pl_exponent\n",
    "    for k in range(1,n+1):\n",
    "        num=kv*transmission_power*max_gain*power_fading*(distance_v2u[k]**(-pl_exponent))\n",
    "        denom=n0*w\n",
    "        sinr[k]=num/denom\n",
    "        datarate[k]=eta*w*math.log2(1+sinr[k])\n",
    "    return sinr,datarate"
   ]
  },
  {
   "cell_type": "markdown",
   "metadata": {},
   "source": [
    "# Formulating Problem using Proposed Approach"
   ]
  },
  {
   "cell_type": "code",
   "execution_count": null,
   "metadata": {},
   "outputs": [],
   "source": []
  }
 ],
 "metadata": {
  "accelerator": "GPU",
  "colab": {
   "gpuType": "T4",
   "provenance": []
  },
  "kernelspec": {
   "display_name": "Python 3 (ipykernel)",
   "language": "python",
   "name": "python3"
  },
  "language_info": {
   "codemirror_mode": {
    "name": "ipython",
    "version": 3
   },
   "file_extension": ".py",
   "mimetype": "text/x-python",
   "name": "python",
   "nbconvert_exporter": "python",
   "pygments_lexer": "ipython3",
   "version": "3.12.1"
  }
 },
 "nbformat": 4,
 "nbformat_minor": 4
}
