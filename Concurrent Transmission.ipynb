{
 "cells": [
  {
   "cell_type": "code",
   "execution_count": 1,
   "id": "0dbbc6ea-0fd9-4f98-9c49-128201e4da57",
   "metadata": {},
   "outputs": [
    {
     "name": "stdout",
     "output_type": "stream",
     "text": [
      "Bhaichara On Top\n"
     ]
    }
   ],
   "source": [
    "import numpy as np\n",
    "import pandas as pd\n",
    "import math\n",
    "import sys\n",
    "from ipynb.fs.full.Formulas import *\n",
    "from ipynb.fs.full.Environment import *\n",
    "from ipynb.fs.full.Flow_Grouping_Algo import *\n",
    "import random"
   ]
  },
  {
   "cell_type": "code",
   "execution_count": 3,
   "id": "30115a95",
   "metadata": {},
   "outputs": [],
   "source": [
    "def concurrent_transmission():\n",
    "    groups = generate_groups()\n",
    "    system_throughput = 0\n",
    "    hops = np.ones(number_of_flows + 1)\n",
    "    \n",
    "    for current_time_slot in range(1, number_of_time_slots + 1):\n",
    "        for group in groups:\n",
    "            while(len(group)):\n",
    "                "
   ]
  },
  {
   "cell_type": "code",
   "execution_count": null,
   "id": "bef4abe0",
   "metadata": {},
   "outputs": [],
   "source": []
  }
 ],
 "metadata": {
  "kernelspec": {
   "display_name": "Python 3 (ipykernel)",
   "language": "python",
   "name": "python3"
  },
  "language_info": {
   "codemirror_mode": {
    "name": "ipython",
    "version": 3
   },
   "file_extension": ".py",
   "mimetype": "text/x-python",
   "name": "python",
   "nbconvert_exporter": "python",
   "pygments_lexer": "ipython3",
   "version": "3.9.18"
  }
 },
 "nbformat": 4,
 "nbformat_minor": 5
}
