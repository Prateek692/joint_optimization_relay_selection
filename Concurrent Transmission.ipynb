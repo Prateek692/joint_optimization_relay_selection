{
 "cells": [
  {
   "cell_type": "markdown",
   "id": "9016b288-168f-4f5b-9573-2242f311f351",
   "metadata": {},
   "source": [
    "![FORMULA](pictures/sidhu.jpeg) "
   ]
  },
  {
   "cell_type": "code",
   "execution_count": 1,
   "id": "0dbbc6ea-0fd9-4f98-9c49-128201e4da57",
   "metadata": {},
   "outputs": [
    {
     "name": "stdout",
     "output_type": "stream",
     "text": [
      "Bhaichara On Top\n"
     ]
    }
   ],
   "source": [
    "import numpy as np\n",
    "import pandas as pd\n",
    "import math\n",
    "import sys\n",
    "import random\n",
    "from ipynb.fs.full.Formulas import *\n",
    "from ipynb.fs.full.Environment import *\n",
    "from ipynb.fs.full.Flow_Grouping_Algo import *"
   ]
  },
  {
   "cell_type": "markdown",
   "id": "fb8a0518-6013-45a7-bc1a-5b7068da26bb",
   "metadata": {},
   "source": [
    "## Generating max hop of each flows"
   ]
  },
  {
   "cell_type": "code",
   "execution_count": 8,
   "id": "5a5f9e4e-38f1-41b7-b4d3-b092f25aee82",
   "metadata": {},
   "outputs": [],
   "source": [
    "max_hops = np.ones(number_of_flows + 1)\n",
    "for flow_index in range(1,len(flows)):\n",
    "    random_relay_candidate = flows_candidate_relay_set_pairs[str([flow_index,0.0])]\n",
    "    if random_relay_candidate[2] != -1:\n",
    "        max_hops[flow_index] = 2"
   ]
  },
  {
   "cell_type": "code",
   "execution_count": 9,
   "id": "dc99d703-6749-4005-8999-591c6addcc14",
   "metadata": {},
   "outputs": [
    {
     "data": {
      "text/plain": [
       "array([1., 2., 2., 2., 2., 2., 2., 2., 2., 2., 2., 2., 2., 2., 2., 2., 2.,\n",
       "       2., 2., 2., 2., 2., 2., 2., 2., 2., 2., 2., 1., 1., 1., 1., 1., 1.,\n",
       "       1., 1., 1., 1., 1., 1., 1., 1., 1., 2., 2., 2., 2., 2., 2., 2., 2.,\n",
       "       2., 2., 2., 2., 2., 1., 1., 1., 1., 1., 1., 1., 1., 1., 1., 1., 1.,\n",
       "       1., 1., 2., 2., 2., 2., 2., 2., 2., 2., 2., 2., 2.])"
      ]
     },
     "execution_count": 9,
     "metadata": {},
     "output_type": "execute_result"
    }
   ],
   "source": [
    "max_hops"
   ]
  },
  {
   "cell_type": "code",
   "execution_count": 2,
   "id": "30115a95",
   "metadata": {},
   "outputs": [
    {
     "ename": "SyntaxError",
     "evalue": "incomplete input (634182193.py, line 9)",
     "output_type": "error",
     "traceback": [
      "\u001b[0;36m  Cell \u001b[0;32mIn[2], line 9\u001b[0;36m\u001b[0m\n\u001b[0;31m    \u001b[0m\n\u001b[0m    ^\u001b[0m\n\u001b[0;31mSyntaxError\u001b[0m\u001b[0;31m:\u001b[0m incomplete input\n"
     ]
    }
   ],
   "source": [
    "def concurrent_transmission():\n",
    "    # groups = generate_groups()\n",
    "    system_throughput = 0\n",
    "    current_hops = np.ones(number_of_flows + 1)\n",
    "    number_of_slots = 0\n",
    "    for group in groups:\n",
    "        hop_completed = False\n",
    "        while len(group):\n",
    "            if hop_completed:\n",
    "                for flow in group:\n",
    "                    \n",
    "            else:\n",
    "                \n",
    "    "
   ]
  },
  {
   "cell_type": "code",
   "execution_count": null,
   "id": "6b6781fa-47bc-406f-bf8e-b847c9f0ffae",
   "metadata": {},
   "outputs": [],
   "source": []
  },
  {
   "cell_type": "code",
   "execution_count": null,
   "id": "4ba34fb2-eab8-49ca-8082-e1a7aead26d1",
   "metadata": {},
   "outputs": [],
   "source": []
  },
  {
   "cell_type": "code",
   "execution_count": null,
   "id": "8583d39e-62e4-43f9-8d39-82b91260b5ae",
   "metadata": {},
   "outputs": [],
   "source": []
  },
  {
   "cell_type": "code",
   "execution_count": null,
   "id": "bef4abe0",
   "metadata": {},
   "outputs": [],
   "source": []
  }
 ],
 "metadata": {
  "kernelspec": {
   "display_name": "Python 3 (ipykernel)",
   "language": "python",
   "name": "python3"
  },
  "language_info": {
   "codemirror_mode": {
    "name": "ipython",
    "version": 3
   },
   "file_extension": ".py",
   "mimetype": "text/x-python",
   "name": "python",
   "nbconvert_exporter": "python",
   "pygments_lexer": "ipython3",
   "version": "3.12.2"
  }
 },
 "nbformat": 4,
 "nbformat_minor": 5
}
