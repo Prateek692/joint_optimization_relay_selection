{
 "cells": [
  {
   "cell_type": "code",
   "execution_count": 1,
   "id": "dac0d8a1-3baf-43d5-bb0c-1a41e5008fcd",
   "metadata": {},
   "outputs": [
    {
     "name": "stdout",
     "output_type": "stream",
     "text": [
      "Bhaichara On Top\n"
     ]
    }
   ],
   "source": [
    "import numpy as np\n",
    "import pandas as pd\n",
    "import math\n",
    "import sys\n",
    "import random\n",
    "from ipynb.fs.full.Formulas import *\n",
    "from ipynb.fs.full.Environment import *\n",
    "from ipynb.fs.full.Flow_Grouping_Algo import *"
   ]
  },
  {
   "cell_type": "code",
   "execution_count": 2,
   "id": "ca91767d-8d19-4d1c-a574-1247685f19e1",
   "metadata": {},
   "outputs": [],
   "source": [
    "def flows_classifier():\n",
    "    set_of_direct_flows = set()\n",
    "    set_of_relay_flows = set()\n",
    "    candidate_relay_set_for_relay_flows = {}\n",
    "    for i in range(1,number_of_flows+1):\n",
    "        relay_type, candidate_relay_set, _ = flows_candidate_relay_set_pairs[str([i,0.0])]\n",
    "        if relay_type == 'dont_relay':\n",
    "            set_of_direct_flows.add(i)\n",
    "        else:\n",
    "            set_of_relay_flows.add(i)\n",
    "            candidate_relay_set_for_relay_flows[i] = candidate_relay_set\n",
    "    return set_of_direct_flows, set_of_relay_flows, candidate_relay_set_for_relay_flows"
   ]
  },
  {
   "cell_type": "code",
   "execution_count": 3,
   "id": "772b9214-fa71-4307-bbed-8ead9414d09c",
   "metadata": {},
   "outputs": [],
   "source": [
    "set_of_direct_flows, set_of_relay_flows, candidate_relay_set_for_relay_flows = flows_classifier()"
   ]
  },
  {
   "cell_type": "code",
   "execution_count": null,
   "id": "12aaf7e3-50dd-4aec-b0a3-0fc9a4827ca9",
   "metadata": {},
   "outputs": [],
   "source": [
    "scheduling_results = set()\n",
    "group = set()\n",
    "def DGroup(set_of_direct_flows):\n",
    "    "
   ]
  },
  {
   "cell_type": "code",
   "execution_count": null,
   "id": "2c763f15-e95b-4465-ac24-768bf446a1a7",
   "metadata": {},
   "outputs": [],
   "source": []
  }
 ],
 "metadata": {
  "kernelspec": {
   "display_name": "Python 3 (ipykernel)",
   "language": "python",
   "name": "python3"
  },
  "language_info": {
   "codemirror_mode": {
    "name": "ipython",
    "version": 3
   },
   "file_extension": ".py",
   "mimetype": "text/x-python",
   "name": "python",
   "nbconvert_exporter": "python",
   "pygments_lexer": "ipython3",
   "version": "3.12.2"
  }
 },
 "nbformat": 4,
 "nbformat_minor": 5
}
