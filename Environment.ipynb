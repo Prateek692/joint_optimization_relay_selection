{
 "cells": [
  {
   "cell_type": "code",
   "execution_count": 1,
   "id": "e1a97050-5a3e-45a7-aab2-ea5a90c799ab",
   "metadata": {
    "scrolled": true
   },
   "outputs": [
    {
     "name": "stdout",
     "output_type": "stream",
     "text": [
      "Bhaichara On Top\n"
     ]
    }
   ],
   "source": [
    "import numpy as np\n",
    "import pandas as pd\n",
    "import math\n",
    "import sys\n",
    "from ipynb.fs.full.Formulas import *\n",
    "import random"
   ]
  },
  {
   "cell_type": "markdown",
   "id": "80da20a8-e712-4407-bd1d-6e26b3a4a2fb",
   "metadata": {},
   "source": [
    "# Calculating number of slots for a flow"
   ]
  },
  {
   "cell_type": "code",
   "execution_count": 2,
   "id": "0c581a33-d428-4c22-8911-efd8e9f26d5e",
   "metadata": {},
   "outputs": [],
   "source": [
    "# Datarate might be wrong, review it later\n",
    "def calculate_number_of_slots():\n",
    "    for flow_index in range(1,number_of_flows+1):\n",
    "        sender = flows[flow_index][2]\n",
    "        receiver = flows[flow_index][3]\n",
    "        number_of_slots_for_each_flow[flow_index] = ((throughputs[flow_index] * number_of_time_slots) / datarate_v2v[flow_index])"
   ]
  },
  {
   "cell_type": "markdown",
   "id": "c7afb8c9-a4fb-4453-bcab-3cd61524a24a",
   "metadata": {},
   "source": [
    "## Vehicle and UAV class declared here"
   ]
  },
  {
   "cell_type": "code",
   "execution_count": 3,
   "id": "956f77d1-95ca-4316-b6e6-5239aa633ee7",
   "metadata": {},
   "outputs": [],
   "source": [
    "class Vehicle:\n",
    "    def __init__(self, x, y, velocity):\n",
    "        self.x = x\n",
    "        self.y = y\n",
    "        self.velocity = velocity\n",
    "        self.type = 'vehicle'\n",
    "        \n",
    "    def calculate_position(self,time):\n",
    "        current_x=self.x+(self.velocity*time)\n",
    "        return current_x, self.y\n",
    "class UAV:\n",
    "    def __init__(self,x,y,theta,height=height_of_uav,velocity=speed_of_uav,radius=radius_of_uav):\n",
    "        self.x = x\n",
    "        self.y = y\n",
    "        self.height = height\n",
    "        self.radius = radius\n",
    "        self.velocity = velocity\n",
    "        self.theta = theta\n",
    "        self.type = 'uav'\n",
    "\n",
    "    def calculate_position(self,time):\n",
    "        angle = (self.velocity*time)%(2*math.pi)\n",
    "        current_x=self.x+(self.radius*math.cos(angle))\n",
    "        current_y=self.y+(self.radius*math.sin(angle))\n",
    "        return current_x,current_y \n"
   ]
  },
  {
   "cell_type": "code",
   "execution_count": 4,
   "id": "ee59f792-1de2-48ab-a9e6-5d308a9ad48e",
   "metadata": {},
   "outputs": [],
   "source": [
    "## Relay class models the relaying environment. Environment consists of vehicles and uavs in different positions"
   ]
  },
  {
   "cell_type": "code",
   "execution_count": 5,
   "id": "6332978d-fd98-40d4-a2fa-234f6c86860a",
   "metadata": {},
   "outputs": [],
   "source": [
    "class Relay:    \n",
    "    \n",
    "    def isbetween(self,middle,x,y):  # Check whether x < middle < y\n",
    "        left=min(x,y)\n",
    "        right=max(x,y)\n",
    "        return middle > left and middle < right\n",
    "        \n",
    "    def no_of_obstacles(self,vehicle1,vehicle2,time): # Count no of vehicles between vehicle 1 and vehicle 2 lying in same lane\n",
    "        vehicle1_x,vehicle1_y=vehicle1.calculate_position(time)\n",
    "        vehicle2_x,vehicle2_y=vehicle2.calculate_position(time)\n",
    "        ans=0\n",
    "        for vehicle in list_of_vehicles:\n",
    "            current_x,current_y=vehicle.calculate_position(time)\n",
    "            if current_y == vehicle1_y and self.isbetween(current_x,vehicle1_x,vehicle2_x):\n",
    "                ans+=1\n",
    "        return ans    \n",
    "\n",
    "    # Vehicle 1 = sender and Vehicle 2 = receiver\n",
    "    def determine_relay_type(self,vehicle1,vehicle2,time,flow_index): # Determining type of relaying needed to take place between a flow of sender and receiver and returning candidate relay set if relay is required \n",
    "        vehicle1_x,vehicle1_y=vehicle1.calculate_position(time)\n",
    "        vehicle2_x,vehicle2_y=vehicle2.calculate_position(time)\n",
    "        if vehicle1_y == vehicle2_y:    #Sender and Receiver on same lane\n",
    "            obstacles = self.no_of_obstacles(vehicle1,vehicle2,time)\n",
    "            if obstacles == 0: # If no obstacle, no need to relay\n",
    "                return 'dont_relay', set()\n",
    "            elif obstacles == 1: # Only one obstacle, use it to relay\n",
    "                return 'same_lane_relay', self.candidate_relay_set_single_same_lane(vehicle1,vehicle2,time,flow_index) \n",
    "            else: # Multiple obstacles, pick relaying vehicle \n",
    "                return 'adjacent_lane_relay', self.candidate_relay_set_multiple_same_lane(vehicle1,vehicle2,time,flow_index)\n",
    "        elif abs(vehicle1_y - vehicle2_y) == 1: # Sender and Receiver on adjacent lanes\n",
    "            return 'dont_relay', set()\n",
    "        else:     # Sender and Receiver are multiple lanes(>1) apart\n",
    "            return 'middle_lane_relay', self.candidate_relay_set_middle_lane(vehicle1,vehicle2,time,flow_index)\n",
    "    \n",
    "    def candidate_relay_set_middle_lane(self,vehicle1,vehicle2,time,flow_index):\n",
    "        candidate_relays=set()\n",
    "        vehicle1_x_start,vehicle1_y_start=vehicle1.calculate_position(time)\n",
    "        vehicle2_x_start,vehicle2_y_start=vehicle2.calculate_position(time)\n",
    "\n",
    "        if vehicle1_y_start > vehicle2_y_start:\n",
    "            return self.candidate_relay_set_middle_lane(vehicle2,vehicle1,time,flow_index)\n",
    "        \n",
    "        vehicle1_x_end,vehicle1_y_end=vehicle1.calculate_position(time+number_of_slots_for_each_flow[flow_index]*slot_duration)\n",
    "        vehicle2_x_end,vehicle2_y_end=vehicle2.calculate_position(time+number_of_slots_for_each_flow[flow_index]*slot_duration)\n",
    "        \n",
    "        for vehicle in list_of_vehicles:\n",
    "            current_x_start,current_y_start=vehicle.calculate_position(time)\n",
    "            current_x_end,current_y_end=vehicle.calculate_position(time+number_of_slots_for_each_flow[flow_index]*slot_duration)\n",
    "            if self.isbetween(current_y_start,vehicle1_y_start,vehicle2_y_start)==0: \n",
    "                continue\n",
    "\n",
    "            m = current_y_start - vehicle1_y_start\n",
    "            n = vehicle2_y_start - current_y_start\n",
    "            D1x , D1y = section_formula(vehicle1_x_start,vehicle1_y_start,vehicle2_x_start,vehicle2_y_start,m,n)\n",
    "            D2x , D2y = section_formula(vehicle1_x_end,vehicle1_y_end,vehicle2_x_end,vehicle2_y_end,m,n)\n",
    "            if current_x_end <= D1x or D2x <= current_x_start: # No overlap=No add\n",
    "                continue\n",
    "            start_boundary=max(current_x_start,D1x)\n",
    "            end_boundary = min(current_x_end, D2x)\n",
    "            epsilon = (end_boundary-start_boundary) / (current_x_end - current_x_start) \n",
    "            if epsilon >= 0.5:\n",
    "                candidate_relays.add(vehicle)        \n",
    "        # If candidate_relays.length()==0 till now, it means there's no obstacle in middle lanes and no need to relay. so dont add uav and return empty set\n",
    "        if len(candidate_relays):\n",
    "            candidate_relays=candidate_relays.union(self.get_uav(vehicle1,vehicle2,time))\n",
    "        return candidate_relays\n",
    "\n",
    "    def candidate_relay_set_single_same_lane(self,vehicle1,vehicle2,time,flow_index):\n",
    "        candidate_relays=set()\n",
    "        vehicle1_x,vehicle1_y=vehicle1.calculate_position(time)\n",
    "        vehicle2_x,vehicle2_y=vehicle2.calculate_position(time)\n",
    "        for vehicle in list_of_vehicles:\n",
    "            current_x,current_y=vehicle.calculate_position(time)\n",
    "            if self.isbetween(current_x,vehicle1_x,vehicle2_x):\n",
    "                candidate_relays.add(vehicle)\n",
    "                break\n",
    "        candidate_relays=candidate_relays.union(self.get_uav(vehicle1,vehicle2,time))\n",
    "        return candidate_relays\n",
    "\n",
    "    def candidate_relay_set_multiple_same_lane(self,vehicle1,vehicle2,time,flow_index):\n",
    "        candidate_relays=set()\n",
    "        vehicle1_x_start,vehicle1_y_start=vehicle1.calculate_position(time)\n",
    "        vehicle2_x_end,vehicle2_y_end=vehicle2.calculate_position(time+number_of_slots_for_each_flow[flow_index]*slot_duration)\n",
    "        D3x=vehicle1_x_start\n",
    "        D4x=vehicle2_x_end\n",
    "        \n",
    "        for vehicle in list_of_vehicles:\n",
    "            current_x_start,current_y_start=vehicle.calculate_position(time)\n",
    "            current_x_end,current_y_end=vehicle.calculate_position(time+number_of_slots_for_each_flow[flow_index]*slot_duration)\n",
    "            \n",
    "            if current_y_start==(vehicle1_y_start-1) or current_y_start==(vehicle1_y_start+1):\n",
    "                if current_x_end <= D3x or D4x <= current_x_start:\n",
    "                    continue\n",
    "                \n",
    "                start_boundary=max(current_x_start, D3x)\n",
    "                end_boundary=min(current_x_end, D4x)\n",
    "                epsilon=(end_boundary-start_boundary)/(current_x_end-current_x_start)\n",
    "                \n",
    "                if epsilon>=0.5:\n",
    "                    candidate_relays.add(vehicle)\n",
    "                    \n",
    "        candidate_relays=candidate_relays.union(self.get_uav(vehicle1,vehicle2,time))\n",
    "        return candidate_relays\n",
    "\n",
    "    def get_uav(self,vehicle1,vehicle2,time): # Function to return list of possible UAVs available in flow range for relaying\n",
    "        candidate_uavs=set()\n",
    "        vehicle1_x,vehicle1_y=vehicle1.calculate_position(time)\n",
    "        vehicle2_x,vehicle2_y=vehicle2.calculate_position(time)\n",
    "        for uav in candidate_uavs:\n",
    "            current_x,current_y=uav.calculate_position(time)\n",
    "            distance_s = ((current_x-vehicle1_x)**2) + ((current_y-vehicle1_y)**2)\n",
    "            distance_s = math.sqrt(distance_s)\n",
    "            distance_r = ((current_x-vehicle2_x)**2) + ((current_y-vehicle2_y)**2)\n",
    "            distance_r = math.sqrt(distance_r)\n",
    "            if distance_s <= 500 and distance_r <= 500:\n",
    "                candidate_uavs.add(uav)\n",
    "        return candidate_uavs\n",
    "        "
   ]
  },
  {
   "cell_type": "code",
   "execution_count": 6,
   "id": "6261a6e0-293c-45ab-a3a3-0985d0d2d4fc",
   "metadata": {},
   "outputs": [],
   "source": [
    "# Declare list of vehicles and UAVs objects\n",
    "list_of_vehicles = [\n",
    "        Vehicle(10, 1, 75),    \n",
    "        Vehicle(20, 1, 70),    \n",
    "        Vehicle(30, 1, 65),    \n",
    "        Vehicle(40, 1, 60),    \n",
    "        Vehicle(50, 1, 55),    \n",
    "        Vehicle(60, 1, 70),    \n",
    "        Vehicle(70, 1, 72),    \n",
    "        Vehicle(80, 1, 24),    \n",
    "        Vehicle(90, 1, 25),   \n",
    "        Vehicle(100, 1, 50),    \n",
    "        Vehicle(110, 1, 45),    \n",
    "        Vehicle(120, 1, 40),    \n",
    "        Vehicle(130, 1, 35),    \n",
    "        Vehicle(140, 1, 30),\n",
    "        Vehicle(10, 11, 75),    \n",
    "        Vehicle(20, 11, 70),    \n",
    "        Vehicle(30, 11, 65),    \n",
    "        Vehicle(40, 11, 60),    \n",
    "        Vehicle(50, 11, 55),    \n",
    "        Vehicle(60, 11, 70),    \n",
    "        Vehicle(70, 11, 72),    \n",
    "        Vehicle(80, 11, 24),    \n",
    "        Vehicle(90, 11, 25),   \n",
    "        Vehicle(100, 11, 50),    \n",
    "        Vehicle(110, 11, 45),    \n",
    "        Vehicle(120, 11, 40),    \n",
    "        Vehicle(130, 11, 35),    \n",
    "        Vehicle(140, 11, 30),\n",
    "        Vehicle(10, 2, 75),    \n",
    "        Vehicle(20, 2, 70),    \n",
    "        Vehicle(30, 2, 65),    \n",
    "        Vehicle(40, 2, 60),    \n",
    "        Vehicle(50, 2, 55),    \n",
    "        Vehicle(60, 2, 70),    \n",
    "        Vehicle(70, 2, 72),    \n",
    "        Vehicle(80, 2, 24),    \n",
    "        Vehicle(90, 2, 25),   \n",
    "        Vehicle(100, 2, 50),    \n",
    "        Vehicle(110, 2, 45),    \n",
    "        Vehicle(120, 2, 40),    \n",
    "        Vehicle(130, 2, 35),    \n",
    "        Vehicle(140, 2, 30),\n",
    "        Vehicle(10, 12, 75),    \n",
    "        Vehicle(20, 12, 70),    \n",
    "        Vehicle(30, 12, 65),    \n",
    "        Vehicle(40, 12, 60),    \n",
    "        Vehicle(50, 12, 55),    \n",
    "        Vehicle(60, 12, 70),    \n",
    "        Vehicle(70, 12, 72),    \n",
    "        Vehicle(80, 12, 24),    \n",
    "        Vehicle(90, 12, 25),   \n",
    "        Vehicle(100, 12, 50),    \n",
    "        Vehicle(110, 12, 45),    \n",
    "        Vehicle(120, 12, 40),    \n",
    "        Vehicle(130, 12, 35),    \n",
    "        Vehicle(140, 12, 30),\n",
    "        Vehicle(10, 21, 75),    \n",
    "        Vehicle(20, 21, 70),    \n",
    "        Vehicle(30, 21, 65),    \n",
    "        Vehicle(40, 21, 60),    \n",
    "        Vehicle(50, 21, 55),    \n",
    "        Vehicle(60, 21, 70),    \n",
    "        Vehicle(70, 21, 72),    \n",
    "        Vehicle(80, 21, 24),    \n",
    "        Vehicle(90, 21, 25),   \n",
    "        Vehicle(100, 21, 50),    \n",
    "        Vehicle(110, 21, 45),    \n",
    "        Vehicle(120, 21, 40),    \n",
    "        Vehicle(130, 21, 35),    \n",
    "        Vehicle(140, 21, 30),\n",
    "        Vehicle(10, 31, 75),    \n",
    "        Vehicle(20, 31, 70),    \n",
    "        Vehicle(30, 31, 65),    \n",
    "        Vehicle(40, 31, 60),    \n",
    "        Vehicle(50, 31, 55),    \n",
    "        Vehicle(60, 31, 70),    \n",
    "        Vehicle(70, 31, 72),    \n",
    "        Vehicle(80, 31, 24),    \n",
    "        Vehicle(90, 31, 25),   \n",
    "        Vehicle(100, 31, 50),    \n",
    "        Vehicle(110, 31, 45),    \n",
    "        Vehicle(120, 31, 40),    \n",
    "        Vehicle(130, 31, 35),    \n",
    "        Vehicle(140, 31, 30)\n",
    "]\n",
    "\n",
    "list_of_uavs = [\n",
    "        UAV(10, 1, math.pi/4),\n",
    "        UAV(500, 2, math.pi/3),\n",
    "        UAV(200, 3, math.pi/6)\n",
    "]\n",
    "\n",
    "# Create an empty list to store flows\n",
    "flows = []\n",
    "flows = [[list_of_vehicles[0],list_of_vehicles[1],0,1]]\n",
    "# Loop through the list and form flow pairs (sender and receiver pairs)\n",
    "for i in range(1,len(list_of_vehicles)):\n",
    "    if len(flows) == (number_of_flows +1):\n",
    "        break\n",
    "    # for j in range(i+1, len(list_of_vehicles)):  # Ensure unique pairs\n",
    "    #     if len(flows) == (number_of_flows + 1):\n",
    "    #         break\n",
    "    #     flows.append([list_of_vehicles[i], list_of_vehicles[j],i,j])\n",
    "    flows.append([list_of_vehicles[0],list_of_vehicles[i],0,i])\n",
    "\n",
    "# Convert the list of pairs to a NumPy array\n",
    "flows = np.array(flows)\n",
    "\n",
    "\n",
    "\n",
    "for i in range(1,len(flows)):\n",
    "    for j in range(1,len(flows)):\n",
    "        flow_sender = flows[i][0]\n",
    "        flow_receiver = flows[j][1]\n",
    "\n",
    "        sender_x,sender_y = flow_sender.calculate_position(0)\n",
    "        receiver_x,receiver_y = flow_receiver.calculate_position(0)\n",
    "        \n",
    "        distance = euclidean_distance(sender_x, sender_y, receiver_x, receiver_y)\n",
    "        distance_matrix[i,j] = distance\n",
    "        "
   ]
  },
  {
   "cell_type": "markdown",
   "id": "dad3be38-957f-408a-b587-37f99a318caf",
   "metadata": {},
   "source": [
    "# Testing segment to store standard output in a file (dont run unless required)"
   ]
  },
  {
   "cell_type": "code",
   "execution_count": 7,
   "id": "d0469296-e572-4f66-816c-7e5168e18e81",
   "metadata": {},
   "outputs": [],
   "source": [
    "# # Open a file in write mode\n",
    "# with open('output.txt', 'w') as f:\n",
    "#     # Redirect stdout to the file\n",
    "#     sys.stdout = f\n",
    "    \n",
    "#     # Your print statements\n",
    "#     temp= Relay()\n",
    "#     for i in range(5):\n",
    "#         time = i*slot_duration\n",
    "#         for j in flows:\n",
    "#             print(\"Sender:\",j[0].calculate_position(time),\"Receiver:\",j[1].calculate_position(time))\n",
    "#             relay_type,candidate_set=temp.determine_relay_type(j[0],j[1],time)\n",
    "#             for k in candidate_set:\n",
    "#                 print(k.calculate_position(time))\n",
    "#             # print(temp.determine_relay_type(j[0],j[1],i*slot_duration))\n",
    "    \n",
    "#     # Remember to restore stdout to its default value after writing\n",
    "#     sys.stdout = sys.__stdout__\n",
    "\n",
    "# # File is automatically closed after the `with` block"
   ]
  },
  {
   "cell_type": "markdown",
   "id": "42171165-906f-4b69-ac66-e89d28dfba13",
   "metadata": {},
   "source": [
    "# Creating flows and storing their candidate sets"
   ]
  },
  {
   "cell_type": "markdown",
   "id": "c9b55b48-f2bb-47d3-a79c-8ab6945851fd",
   "metadata": {},
   "source": [
    "### This function picks up random candidate out of a particular relay set"
   ]
  },
  {
   "cell_type": "code",
   "execution_count": 8,
   "id": "efb3ae40-13e5-4aa3-9ff6-3f02426dff63",
   "metadata": {},
   "outputs": [],
   "source": [
    "def random_relay_candidate(my_set):\n",
    "    if not my_set:\n",
    "        return -1\n",
    "    else:\n",
    "        return random.choice(list(my_set))"
   ]
  },
  {
   "cell_type": "markdown",
   "id": "eec1ccac-9963-406c-b757-722bf93a75f3",
   "metadata": {},
   "source": [
    "# Calling Functions"
   ]
  },
  {
   "cell_type": "code",
   "execution_count": 9,
   "id": "015f5fe7-5d95-43e6-8ab1-b267d6274b55",
   "metadata": {},
   "outputs": [],
   "source": [
    "# calculate_channel_power_gain_distribution()\n",
    "# calculate_received_signal_power()\n",
    "# calculate_sinr_and_datarate_u2v()\n",
    "# calculate_sinr_and_datarate_v2u()\n",
    "# calculate_sinr_and_datarate_v2v()\n",
    "# calculate_number_of_slots()\n",
    "# flows_candidate_relay_set_pairs={}\n",
    "# RelayObj = Relay()"
   ]
  },
  {
   "cell_type": "code",
   "execution_count": 10,
   "id": "d210c381-ec07-4053-b1cc-125e29f95699",
   "metadata": {},
   "outputs": [
    {
     "name": "stderr",
     "output_type": "stream",
     "text": [
      "/run/media/prateek/Documents/joint_optimization_relay_selection/Formulas.ipynb:172: RuntimeWarning: divide by zero encountered in scalar power\n",
      "  \"execution_count\": 7,\n",
      "/run/media/prateek/Documents/joint_optimization_relay_selection/Formulas.ipynb:172: RuntimeWarning: invalid value encountered in scalar multiply\n",
      "  \"execution_count\": 7,\n",
      "/run/media/prateek/Documents/joint_optimization_relay_selection/Formulas.ipynb:186: RuntimeWarning: divide by zero encountered in scalar power\n",
      "  \"execution_count\": 8,\n",
      "/run/media/prateek/Documents/joint_optimization_relay_selection/Formulas.ipynb:186: RuntimeWarning: invalid value encountered in scalar multiply\n",
      "  \"execution_count\": 8,\n",
      "/tmp/ipykernel_17308/3936472145.py:6: RuntimeWarning: divide by zero encountered in scalar divide\n",
      "  number_of_slots_for_each_flow[flow_index] = ((throughputs[flow_index] * number_of_time_slots) / datarate_v2v[flow_index])\n"
     ]
    }
   ],
   "source": [
    "calculate_channel_power_gain_distribution()\n",
    "calculate_received_signal_power()\n",
    "calculate_sinr_and_datarate_u2v()\n",
    "calculate_sinr_and_datarate_v2u()\n",
    "calculate_sinr_and_datarate_v2v()\n",
    "calculate_number_of_slots()\n",
    "flows_candidate_relay_set_pairs={}\n",
    "RelayObj = Relay()"
   ]
  },
  {
   "cell_type": "markdown",
   "id": "a40cc2d2-11bc-4c7a-8f5a-b330f0a1a40d",
   "metadata": {},
   "source": [
    "### Mapping flows to their respective (relay type,candidate set)"
   ]
  },
  {
   "cell_type": "code",
   "execution_count": 11,
   "id": "91906259-e946-42c9-8be5-63e1c37e5e85",
   "metadata": {},
   "outputs": [],
   "source": [
    "\n",
    "# for current_time_slot in range(number_of_time_slots):\n",
    "#     time = current_time_slot * slot_duration\n",
    "#     for flow in flows:\n",
    "#         flow_with_time = [flow[0].calculate_position(time), flow[1].calculate_position(time), time]\n",
    "#         flow_with_time = str(flow_with_time)\n",
    "#         relay_type,candidate_set = RelayObj.determine_relay_type(flow[0],flow[1],time)\n",
    "#         flows_candidate_relay_set_pairs[flow_with_time] = [relay_type,candidate_set,random_relay_candidate(candidate_set)]\n",
    "for current_time_slot in range(number_of_time_slots):\n",
    "    time = current_time_slot * slot_duration\n",
    "    for flow_index in range(1,len(flows)):\n",
    "        if (current_time_slot+number_of_slots_for_each_flow[flow_index])>=number_of_time_slots:\n",
    "            break\n",
    "        flow_with_time = [flows[flow_index-1][0].calculate_position(time), flows[flow_index-1][1].calculate_position(time), time]\n",
    "        flow_with_time = str(flow_with_time)\n",
    "        relay_type,candidate_set = RelayObj.determine_relay_type(flows[flow_index-1][0],flows[flow_index-1][1],time,flow_index)\n",
    "        flows_candidate_relay_set_pairs[flow_with_time] = [relay_type,candidate_set,random_relay_candidate(candidate_set)]"
   ]
  },
  {
   "cell_type": "code",
   "execution_count": 12,
   "id": "b8306c50-8544-4947-830a-149c8f8bbd3b",
   "metadata": {},
   "outputs": [
    {
     "name": "stdout",
     "output_type": "stream",
     "text": [
      "[ 0.00000000e+00 -1.69803240e+12 -1.85740425e+13 -6.27201528e+13\n",
      " -8.28032655e+13 -5.51923101e+14 -1.23872669e+15 -2.06420889e+15\n",
      " -1.20412014e+15 -3.59788212e+14 -4.66197219e+14 -1.09483906e+15\n",
      " -4.21041428e+14 -1.16458345e+15 -2.05007090e+12 -9.78222589e+12\n",
      " -2.54945739e+12 -2.90291367e+13 -2.44760487e+13 -2.12827409e+14\n",
      " -1.19279738e+14 -8.30937644e+14 -1.34775801e+14 -3.22118216e+14\n",
      " -4.42826181e+14 -1.07985312e+15 -2.54949849e+15 -7.63957943e+15\n",
      " -3.75912178e+10 -3.33150966e+12 -3.11570496e+13 -5.32497004e+12\n",
      " -5.73217869e+13 -1.59898891e+14 -2.59266587e+14 -2.89065916e+14\n",
      " -1.15150019e+15 -1.95899392e+15 -1.69733970e+15             inf\n",
      " -1.96397240e+15 -1.08297335e+15 -2.14387211e+13 -7.98484970e+12\n",
      " -6.59092247e+13 -1.92115372e+14 -4.50699659e+14 -3.64635336e+14\n",
      " -1.48989749e+14 -3.66794178e+15 -5.34794929e+14 -3.09960297e+14\n",
      " -5.57237093e+14 -2.86822118e+15 -3.18730775e+14 -1.96593700e+15\n",
      " -2.32348048e+14 -1.54776311e+13 -3.50508516e+13 -4.58171729e+13\n",
      " -5.84265891e+14 -6.33355741e+14 -1.84895555e+14 -1.48300671e+15\n",
      " -2.94313881e+14 -8.82202787e+14 -4.85006860e+14 -1.31547755e+15\n",
      " -5.29840984e+15 -1.19095033e+15 -3.43332805e+13 -4.59977339e+13\n",
      " -9.50439360e+13 -1.48201533e+14 -1.99382920e+14 -4.33115710e+14\n",
      " -1.07645633e+15 -1.22269121e+14 -1.67777419e+15 -8.20285261e+14\n",
      " -1.82147431e+15]\n"
     ]
    }
   ],
   "source": [
    "print(number_of_slots_for_each_flow)"
   ]
  },
  {
   "cell_type": "code",
   "execution_count": 13,
   "id": "1b3a1a55-a338-4f4b-99cc-c890c71f18f9",
   "metadata": {},
   "outputs": [
    {
     "name": "stdout",
     "output_type": "stream",
     "text": [
      "[[0.00000000e+00 0.00000000e+00 0.00000000e+00 ... 0.00000000e+00\n",
      "  0.00000000e+00 0.00000000e+00]\n",
      " [0.00000000e+00 3.65009787e-08 1.16671982e-08 ... 1.14429864e-10\n",
      "  4.80551369e-11 1.19586509e-10]\n",
      " [0.00000000e+00 4.24576444e-08 1.13290724e-08 ... 1.04410550e-10\n",
      "  1.57352830e-10 2.29976433e-10]\n",
      " ...\n",
      " [0.00000000e+00 1.26380052e-07 1.15199278e-08 ... 8.69250668e-11\n",
      "  1.08155239e-10 4.18577223e-11]\n",
      " [0.00000000e+00 2.83606354e-08 1.01031920e-08 ... 5.78435103e-10\n",
      "  2.49905025e-10 7.83359704e-11]\n",
      " [0.00000000e+00 1.01635224e-08 6.93524537e-09 ... 8.37598321e-10\n",
      "  6.53008879e-12 8.71853091e-11]]\n"
     ]
    }
   ],
   "source": [
    "print(received_signal_power_matrix)"
   ]
  },
  {
   "cell_type": "code",
   "execution_count": 14,
   "id": "ee1f71c7-346c-4ffc-bd38-2f9629f8f2cc",
   "metadata": {},
   "outputs": [
    {
     "name": "stdout",
     "output_type": "stream",
     "text": [
      "[[0.         0.         0.         ... 0.         0.         0.        ]\n",
      " [0.         0.80767973 1.46041484 ... 0.54029087 0.29476616 0.93196582]\n",
      " [0.         0.93948655 1.41809072 ... 0.49298378 0.96518901 1.79226048]\n",
      " ...\n",
      " [0.         2.79648956 1.44198061 ... 0.4104245  0.66341513 0.32620708]\n",
      " [0.         0.62755332 1.26464395 ... 2.73113325 1.53289638 0.61049066]\n",
      " [0.         0.22489455 0.86810347 ... 3.95479563 0.04005501 0.67945564]]\n"
     ]
    }
   ],
   "source": [
    "print(channel_power_gain_matrix)"
   ]
  },
  {
   "cell_type": "code",
   "execution_count": 15,
   "id": "e90daf21-3b71-4749-8275-739dd183e7a9",
   "metadata": {},
   "outputs": [
    {
     "data": {
      "text/plain": [
       "(81, 81)"
      ]
     },
     "execution_count": 15,
     "metadata": {},
     "output_type": "execute_result"
    }
   ],
   "source": [
    "channel_power_gain_matrix.shape"
   ]
  },
  {
   "cell_type": "code",
   "execution_count": 16,
   "id": "96b0b160-918e-4331-b72b-b834340033d7",
   "metadata": {},
   "outputs": [
    {
     "data": {
      "text/plain": [
       "array([  0.        ,  10.        ,  20.        ,  30.        ,\n",
       "        40.        ,  50.        ,  60.        ,  70.        ,\n",
       "        80.        ,  90.        , 100.        , 110.        ,\n",
       "       120.        , 130.        ,  10.        ,  14.14213562,\n",
       "        22.36067977,  31.6227766 ,  41.23105626,  50.99019514,\n",
       "        60.8276253 ,  70.71067812,  80.62257748,  90.55385138,\n",
       "       100.49875621, 110.45361017, 120.41594579, 130.3840481 ,\n",
       "         1.        ,  10.04987562,  20.02498439,  30.01666204,\n",
       "        40.01249805,  50.009999  ,  60.00833275,  70.00714249,\n",
       "        80.00624976,  90.00555538, 100.00499988, 110.00454536,\n",
       "       120.00416659, 130.0038461 ,  11.        ,  14.86606875,\n",
       "        22.82542442,  31.95309062,  41.48493703,  51.19570294,\n",
       "        61.        ,  70.85901495,  80.75270893,  90.66973034,\n",
       "       100.60318086, 110.54863183, 120.50311199, 130.46455457,\n",
       "        20.        ,  22.36067977,  28.28427125,  36.05551275,\n",
       "        44.72135955,  53.85164807,  63.2455532 ,  72.80109889,\n",
       "        82.46211251,  92.19544457, 101.98039027, 111.80339887,\n",
       "       121.65525061, 131.52946438,  30.        ,  31.6227766 ,\n",
       "        36.05551275,  42.42640687,  50.        ,  58.30951895,\n",
       "        67.08203932,  76.15773106,  85.44003745,  94.86832981,\n",
       "       104.40306509])"
      ]
     },
     "execution_count": 16,
     "metadata": {},
     "output_type": "execute_result"
    }
   ],
   "source": [
    "distance_matrix[1]"
   ]
  },
  {
   "cell_type": "code",
   "execution_count": 17,
   "id": "5c629022-850c-4986-bb5f-4b2f53f03550",
   "metadata": {},
   "outputs": [
    {
     "data": {
      "text/plain": [
       "(81, 81)"
      ]
     },
     "execution_count": 17,
     "metadata": {},
     "output_type": "execute_result"
    }
   ],
   "source": [
    "distance_matrix.shape"
   ]
  },
  {
   "cell_type": "code",
   "execution_count": 18,
   "id": "d52fa6a8-25d1-4ea5-8ad7-3fd67ca1522a",
   "metadata": {},
   "outputs": [
    {
     "data": {
      "text/plain": [
       "numpy.ndarray"
      ]
     },
     "execution_count": 18,
     "metadata": {},
     "output_type": "execute_result"
    }
   ],
   "source": [
    "type(distance_matrix)"
   ]
  },
  {
   "cell_type": "code",
   "execution_count": 19,
   "id": "80acfafc-c2d8-491c-a581-85c72860fb64",
   "metadata": {},
   "outputs": [],
   "source": [
    "import pandas as pd\n",
    "# Define the file path where you want to save the CSV file\n",
    "file_path = \"data.csv\"\n",
    "\n",
    "# Save the NumPy array as a CSV file\n",
    "np.savetxt(file_path, distance_matrix, delimiter=\",\")"
   ]
  },
  {
   "cell_type": "code",
   "execution_count": 20,
   "id": "d9ba303e-5bb8-4bf7-97cc-45155f43bede",
   "metadata": {},
   "outputs": [
    {
     "data": {
      "text/plain": [
       "81"
      ]
     },
     "execution_count": 20,
     "metadata": {},
     "output_type": "execute_result"
    }
   ],
   "source": [
    "len(flows)"
   ]
  },
  {
   "cell_type": "code",
   "execution_count": 21,
   "id": "8c8bd294-b26e-44bd-a8fa-97d4e5612af6",
   "metadata": {},
   "outputs": [
    {
     "data": {
      "text/plain": [
       "84"
      ]
     },
     "execution_count": 21,
     "metadata": {},
     "output_type": "execute_result"
    }
   ],
   "source": [
    "len(list_of_vehicles)"
   ]
  },
  {
   "cell_type": "code",
   "execution_count": 22,
   "id": "9c6f0a93-2fd0-4c9f-8634-f0f52fda5339",
   "metadata": {},
   "outputs": [
    {
     "data": {
      "text/plain": [
       "array([ 0.00000000e+00, -3.14448346e-10, -9.76404398e-11, -2.63962344e-11,\n",
       "       -1.81954625e-11, -3.07528944e-12, -1.53764472e-12, -7.68822361e-13,\n",
       "       -1.53764472e-12, -3.58783768e-12, -3.33156356e-12, -1.28137060e-12,\n",
       "       -1.28137060e-12, -1.02509648e-12, -5.32793896e-10, -1.26599415e-10,\n",
       "       -1.04047293e-10, -2.25521226e-11, -1.30699801e-11, -9.22586833e-12,\n",
       "       -4.86920829e-12, -1.28137060e-12, -6.91940125e-12, -2.05019296e-12,\n",
       "       -1.28137060e-12, -1.53764472e-12, -7.68822361e-13, -2.56274120e-13,\n",
       "       -4.42552090e-08, -1.43257233e-10, -4.84358087e-11, -1.33006268e-10,\n",
       "       -2.40897673e-11, -7.17567537e-12, -7.17567537e-12, -4.10038592e-12,\n",
       "       -5.12548241e-13, -7.68822361e-13, -7.68822361e-13,  0.00000000e+00,\n",
       "       -7.68822361e-13, -7.68822361e-13, -8.22639926e-11, -1.92718138e-10,\n",
       "       -7.68822361e-12, -9.73841657e-12, -3.33156356e-12, -5.38175653e-12,\n",
       "       -1.79391884e-12, -5.12548241e-13, -2.05019296e-12, -2.56274120e-12,\n",
       "       -1.53764472e-12, -2.56274120e-13, -7.68822361e-13, -7.68822361e-13,\n",
       "       -5.38175653e-12, -3.81848439e-11, -1.43513507e-11, -1.30699801e-11,\n",
       "       -2.30646708e-12, -2.81901532e-12, -6.91940125e-12, -1.28137060e-12,\n",
       "       -3.58783768e-12, -1.28137060e-12, -1.79391884e-12, -5.12548241e-13,\n",
       "       -2.56274120e-13, -7.68822361e-13, -5.61240323e-11, -3.15217168e-11,\n",
       "       -1.07635131e-11, -1.30699801e-11, -3.58783768e-12, -4.61293417e-12,\n",
       "       -1.79391884e-12, -2.05019296e-12, -7.68822361e-13, -2.05019296e-12,\n",
       "       -7.68822361e-13])"
      ]
     },
     "execution_count": 22,
     "metadata": {},
     "output_type": "execute_result"
    }
   ],
   "source": [
    "datarate_v2v"
   ]
  },
  {
   "cell_type": "code",
   "execution_count": 23,
   "id": "c4c6af95-9ea8-49f5-8f69-03393f75aea3",
   "metadata": {},
   "outputs": [
    {
     "data": {
      "text/plain": [
       "81"
      ]
     },
     "execution_count": 23,
     "metadata": {},
     "output_type": "execute_result"
    }
   ],
   "source": [
    "len(datarate_v2v)"
   ]
  },
  {
   "cell_type": "code",
   "execution_count": 24,
   "id": "009c6cdf-eda3-407b-9033-e91e71f56d58",
   "metadata": {},
   "outputs": [
    {
     "data": {
      "text/plain": [
       "array([ 0.00000000e+00, -1.36197682e-13, -4.22726584e-14, -1.14670588e-14,\n",
       "       -7.85791113e-15, -1.31177942e-15, -6.26522346e-16, -3.86922584e-16,\n",
       "       -7.09219542e-16, -1.59999726e-15, -1.41523449e-15, -5.51037986e-16,\n",
       "       -5.12335049e-16, -4.09587275e-16, -2.30775833e-13, -5.48155102e-14,\n",
       "       -4.50367066e-14, -9.82268426e-15, -5.64154350e-15, -4.00086315e-15,\n",
       "       -2.07471372e-15, -5.69353452e-16, -2.99560052e-15, -9.42726728e-16,\n",
       "       -5.32867413e-16, -6.24057811e-16, -3.79186578e-16, -6.02525970e-17,\n",
       "       -1.91721614e-11, -6.20867538e-14, -2.09767887e-14, -5.76042841e-14,\n",
       "       -1.04391550e-14, -3.08995071e-15, -3.10473425e-15, -1.75713374e-15,\n",
       "       -2.11570005e-16, -3.27250515e-16, -3.79465681e-16, -4.56214116e-17,\n",
       "       -2.97827629e-16, -3.18753129e-16, -3.55933027e-14, -8.34333885e-14,\n",
       "       -3.36797403e-15, -4.18902865e-15, -1.40578548e-15, -2.29387453e-15,\n",
       "       -7.23607798e-16, -2.13542346e-16, -8.94019933e-16, -1.11747183e-15,\n",
       "       -6.71709140e-16, -1.52581268e-16, -3.49846788e-16, -3.43921168e-16,\n",
       "       -2.36217398e-15, -1.64997077e-14, -6.18600829e-15, -5.62305690e-15,\n",
       "       -1.04524663e-15, -1.26464430e-15, -3.00243146e-15, -5.58633486e-16,\n",
       "       -1.53945895e-15, -5.71464647e-16, -8.14192790e-16, -1.73200291e-16,\n",
       "       -8.35250013e-17, -3.53269737e-16, -2.42896849e-14, -1.36393462e-14,\n",
       "       -4.62578169e-15, -5.71755042e-15, -1.57433605e-15, -1.96709941e-15,\n",
       "       -8.13383004e-16, -8.64891824e-16, -3.24347264e-16, -9.32481437e-16,\n",
       "       -3.25318317e-16])"
      ]
     },
     "execution_count": 24,
     "metadata": {},
     "output_type": "execute_result"
    }
   ],
   "source": [
    "sinr_v2v"
   ]
  },
  {
   "cell_type": "code",
   "execution_count": null,
   "id": "7a9d67b1-2823-443b-804f-a6a9545cb122",
   "metadata": {},
   "outputs": [],
   "source": []
  }
 ],
 "metadata": {
  "kernelspec": {
   "display_name": "Python 3 (ipykernel)",
   "language": "python",
   "name": "python3"
  },
  "language_info": {
   "codemirror_mode": {
    "name": "ipython",
    "version": 3
   },
   "file_extension": ".py",
   "mimetype": "text/x-python",
   "name": "python",
   "nbconvert_exporter": "python",
   "pygments_lexer": "ipython3",
   "version": "3.12.1"
  }
 },
 "nbformat": 4,
 "nbformat_minor": 5
}
