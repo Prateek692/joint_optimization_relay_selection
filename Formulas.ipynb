{
 "cells": [
  {
   "cell_type": "code",
   "execution_count": 1,
   "metadata": {
    "id": "whAjB2P-bK44"
   },
   "outputs": [],
   "source": [
    "import numpy as np\n",
    "import pandas as pd\n",
    "import matplotlib.pyplot as plt\n",
    "import math\n",
    "import random\n",
    "from scipy.special import iv"
   ]
  },
  {
   "cell_type": "code",
   "execution_count": 2,
   "metadata": {},
   "outputs": [
    {
     "name": "stdout",
     "output_type": "stream",
     "text": [
      "Bhaichara On Top\n"
     ]
    }
   ],
   "source": [
    "print('Bhaichara On Top')"
   ]
  },
  {
   "cell_type": "markdown",
   "metadata": {},
   "source": [
    "![FORMULA](pictures/formula.png) "
   ]
  },
  {
   "cell_type": "markdown",
   "metadata": {},
   "source": [
    "# Quantities declaration"
   ]
  },
  {
   "cell_type": "code",
   "execution_count": 3,
   "metadata": {},
   "outputs": [],
   "source": [
    "c=300000000\n",
    "carrier_frequency=30\n",
    "wavelength=c/(carrier_frequency*(10**9)) #Becuase freq in ghz\n",
    "number_of_flows=80\n",
    "number_of_time_slots=2000\n",
    "slot_duration=0.1\n",
    "fading_depth=2\n",
    "background_noise=-134\n",
    "system_bandwidth=2000\n",
    "transmission_power=40\n",
    "average_power_of_uav=30\n",
    "peak_power_of_uav=2*average_power_of_uav\n",
    "transceiver_efficiency=0.8\n",
    "height_of_uav=100\n",
    "speed_of_uav=20\n",
    "radius_of_uav=500\n",
    "pl_factor_for_v2v=2.5\n",
    "pl_factor_for_u2v=2\n",
    "rician_k_factor=9\n",
    "interference_threshold=1/(10**3)\n",
    "si_cancellation_level=1/(10**9)\n",
    "maximum_antenna_gain=20\n",
    "half_power_beamwidth=30\n",
    "total_power = 1\n",
    "number_of_uavs = 3\n",
    "distance_u2v=np.zeros((number_of_uavs+1, number_of_flows+1))\n",
    "distance_v2u=np.zeros((number_of_flows+1, number_of_uavs+1))\n",
    "small_scale_power_fading_matrix_u2v = np.zeros((number_of_uavs+1, number_of_flows+1))\n",
    "small_scale_power_fading_matrix_v2u = np.zeros((number_of_flows+1, number_of_uavs+1))\n",
    "channel_power_gain_matrix=np.zeros((number_of_flows+1, number_of_flows+1))\n",
    "received_signal_power_matrix=np.zeros((number_of_flows+1, number_of_flows+1))\n",
    "distance_matrix=np.zeros((number_of_flows+1, number_of_flows+1))\n",
    "number_of_slots_for_each_flow=np.zeros(number_of_flows+1)\n",
    "# 2-D Binary Matrices\n",
    "a_v2v=np.ones((number_of_flows+1, number_of_flows+1))\n",
    "b_v2v=np.ones((number_of_flows+1, number_of_flows+1))\n",
    "a_u2v=np.ones((number_of_flows+1, number_of_flows+1))\n",
    "b_u2v=np.ones((number_of_flows+1, number_of_flows+1))\n",
    "# Sinr and datarates\n",
    "sinr_v2v=np.zeros(number_of_flows+1)\n",
    "sinr_v2u=np.zeros((number_of_flows+1, number_of_uavs+1))\n",
    "sinr_u2v=np.zeros((number_of_uavs+1, number_of_flows+1))\n",
    "datarate_v2v=np.zeros(number_of_flows+1)\n",
    "datarate_v2u=np.zeros((number_of_flows+1, number_of_uavs+1))\n",
    "datarate_u2v=np.zeros((number_of_uavs+1, number_of_flows+1))"
   ]
  },
  {
   "cell_type": "code",
   "execution_count": 4,
   "metadata": {},
   "outputs": [],
   "source": [
    "#Random Throughputs for each flow between [0.1,1] GBPS\n",
    "throughputs = np.random.uniform(0.1, 1, size = number_of_flows+1)"
   ]
  },
  {
   "cell_type": "markdown",
   "metadata": {},
   "source": [
    "# Some Conversion functions "
   ]
  },
  {
   "cell_type": "code",
   "execution_count": 5,
   "metadata": {},
   "outputs": [],
   "source": [
    "def dbm_to_watts(dbm):\n",
    "    \"\"\"Converts dBm (decibels relative to one milliwatt) to Watts.\"\"\"\n",
    "    return dbm\n",
    "    # return 10**(dbm / 10) / 1000\n",
    "    \n",
    "def watts_to_dbm(watts):\n",
    "    \"\"\"Converts Watts to dBm (decibels relative to one milliwatt).\"\"\"\n",
    "    return watts\n",
    "    # return 10 * math.log10(1000 * watts)\n",
    "\n",
    "def dBi_to_linear_scale(dBi):\n",
    "    \"\"\"Converts dBi (decibels relative to an isotropic radiator) to linear scale.\"\"\"\n",
    "    return dBi\n",
    "    # return 10**(dBi / 10)\n",
    "\n",
    "def linear_scale_to_dBi(linear_scale):\n",
    "    \"\"\"Converts linear scale to dBi (decibels relative to an isotropic radiator).\"\"\"\n",
    "    return linear_scale\n",
    "    # return 10 * math.log10(linear_scale)"
   ]
  },
  {
   "cell_type": "code",
   "execution_count": 6,
   "metadata": {},
   "outputs": [],
   "source": [
    "def euclidean_distance(x1, y1, x2, y2):\n",
    "    return math.sqrt((x2 - x1)**2 + (y2 - y1)**2)"
   ]
  },
  {
   "cell_type": "code",
   "execution_count": 7,
   "metadata": {},
   "outputs": [],
   "source": [
    "# Calculating segmentation point of line using section formula\n",
    "def section_formula(x1, y1, x2, y2, m, n):\n",
    "    Px = (m * x2 + n * x1) / (m + n)\n",
    "    Py = (m * y2 + n * y1) / (m + n)\n",
    "    return Px, Py"
   ]
  },
  {
   "cell_type": "code",
   "execution_count": 8,
   "metadata": {
    "id": "ZRvbMN90kw-3"
   },
   "outputs": [],
   "source": [
    "def calculate_antenna_gain(direction: float): #To be implemented. Angle is ambiguous\n",
    "    # deduction=min((direction/half_power_beamwidth)**2,26)\n",
    "    # gain=maximum_antenna_gain-deduction\n",
    "    return maximum_antenna_gain"
   ]
  },
  {
   "cell_type": "code",
   "execution_count": 9,
   "metadata": {
    "id": "DVcRv2bOmcSj"
   },
   "outputs": [],
   "source": [
    "# Generating channel power gain distribution\n",
    "def calculate_channel_power_gain_distribution():\n",
    "    for i in range(1,number_of_flows+1):\n",
    "        for j in range(1,number_of_flows+1):\n",
    "            channel_power_gain_matrix[i, j]=np.random.gamma(shape=fading_depth, scale=1/fading_depth)"
   ]
  },
  {
   "cell_type": "code",
   "execution_count": 10,
   "metadata": {
    "id": "4psn3qYYpiFj"
   },
   "outputs": [],
   "source": [
    "# Calculating received signal power from direct link\n",
    "def calculate_received_signal_power_direct_link(i):\n",
    "    kv=(wavelength/(4*math.pi))**pl_factor_for_v2v\n",
    "    signal_power=kv*dbm_to_watts(transmission_power)*dBi_to_linear_scale(maximum_antenna_gain)*channel_power_gain_matrix[i, i]*(distance_matrix[i, i]**(-pl_factor_for_v2v))\n",
    "    return signal_power"
   ]
  },
  {
   "cell_type": "code",
   "execution_count": 11,
   "metadata": {
    "id": "44Gbliucx1ac"
   },
   "outputs": [],
   "source": [
    "# Mutual interference between 2 flows\n",
    "def calculate_mutual_interference(j, i):\n",
    "    kv=(wavelength/(4*math.pi))**pl_factor_for_v2v\n",
    "    signal_power=kv*dbm_to_watts(transmission_power)*dBi_to_linear_scale(calculate_antenna_gain(0))*channel_power_gain_matrix[j, i]*(distance_matrix[j, i]**(-pl_factor_for_v2v))\n",
    "    return signal_power"
   ]
  },
  {
   "cell_type": "code",
   "execution_count": 12,
   "metadata": {},
   "outputs": [],
   "source": [
    "# Storing values of received signal power for each flow in a 2D matrix\n",
    "def calculate_received_signal_power():\n",
    "    for i in range(1,number_of_flows+1):\n",
    "        for j in range(1,number_of_flows+1):\n",
    "            if i==j:\n",
    "                received_signal_power_matrix[i, i]=calculate_received_signal_power_direct_link(i)\n",
    "            else:\n",
    "                received_signal_power_matrix[j, i]=calculate_mutual_interference(j, i)  "
   ]
  },
  {
   "cell_type": "code",
   "execution_count": 13,
   "metadata": {},
   "outputs": [],
   "source": [
    "# SI cancellation level calculation\n",
    "def calculate_rsi():\n",
    "    return si_cancellation_level*dbm_to_watts(transmission_power)"
   ]
  },
  {
   "cell_type": "code",
   "execution_count": 14,
   "metadata": {},
   "outputs": [],
   "source": [
    "# SINR and Datarate calculation for v2v links\n",
    "def calculate_sinr_and_datarate_v2v():\n",
    "    rsi = calculate_rsi()\n",
    "    for i in range(1,number_of_flows+1):\n",
    "        num=received_signal_power_matrix[i, i]\n",
    "        denom= dbm_to_watts(background_noise*system_bandwidth)\n",
    "        for j in range(1,number_of_flows+1):\n",
    "            if j==i:\n",
    "                continue\n",
    "            denom+=(a_v2v[j, i]*received_signal_power_matrix[j, i])+(b_v2v[j, i]*rsi)\n",
    "        sinr_v2v[i]=num/denom\n",
    "        datarate_v2v[i]=float(transceiver_efficiency*system_bandwidth*(math.log1p(sinr_v2v[i]) / math.log(2)))"
   ]
  },
  {
   "cell_type": "code",
   "execution_count": 15,
   "metadata": {},
   "outputs": [],
   "source": [
    "# Function for generating non central chi square distribution \n",
    "def calculate_non_central_chi_square_distribution(small_scale_power_fading, total_power):\n",
    "    ans=(rician_k_factor + 1)*np.exp(-rician_k_factor)*np.exp(-(rician_k_factor+1)*small_scale_power_fading/total_power)\n",
    "    ans*=iv(0, 2*np.sqrt(rician_k_factor*(rician_k_factor+1)*small_scale_power_fading/total_power))/total_power\n",
    "    return ans"
   ]
  },
  {
   "cell_type": "code",
   "execution_count": 16,
   "metadata": {},
   "outputs": [],
   "source": [
    "# Calculating small scale power fading using non central chi square distribution\n",
    "def calculate_small_scale_power_fading():\n",
    "    for i in range(1,number_of_uavs+1):\n",
    "        for j in range(1,number_of_flows+1):\n",
    "            small_scale_power_fading = np.random.uniform(0, np.inf)\n",
    "            small_scale_power_fading_matrix_u2v[i, j] = calculate_non_central_chi_square_distribution(small_scale_power_fading, total_power)\n",
    "            small_scale_power_fading = np.random.uniform(0, np.inf)\n",
    "            small_scale_power_fading_matrix_v2u[j, i] = calculate_non_central_chi_square_distribution(small_scale_power_fading, total_power)"
   ]
  },
  {
   "cell_type": "code",
   "execution_count": 18,
   "metadata": {},
   "outputs": [],
   "source": [
    "# SINR and Datarate calculation for u2v links\n",
    "def calculate_sinr_and_datarate_u2v(transmit_power_uav=30):\n",
    "    rsi = calculate_rsi()\n",
    "    ku=(wavelength/(4*math.pi))**pl_factor_for_u2v\n",
    "    for u in range(1, number_of_uavs+1):\n",
    "        for k in range(1,number_of_flows+1):\n",
    "            num=ku*dbm_to_watts(transmit_power_uav)*dBi_to_linear_scale(maximum_antenna_gain)*(distance_u2v[u, k]**(-pl_factor_for_u2v))*small_scale_power_fading_matrix_u2v[u, k]\n",
    "            denom= dbm_to_watts(background_noise*system_bandwidth)\n",
    "            for w in range(1,number_of_flows+1):\n",
    "                if w==k:\n",
    "                    continue\n",
    "                denom+=(a_u2v[w, k]*received_signal_power_matrix[w, k])+(b_u2v[w, k]*rsi)\n",
    "            sinr_u2v[u, k]=num/denom\n",
    "            datarate_u2v[u, k]=transceiver_efficiency*system_bandwidth*(math.log1p(sinr_u2v[u, k]) / math.log(2))"
   ]
  },
  {
   "cell_type": "code",
   "execution_count": 20,
   "metadata": {},
   "outputs": [],
   "source": [
    "# SINR and Datarate calculation for v2u links\n",
    "def calculate_sinr_and_datarate_v2u():\n",
    "    kv=(wavelength/(4*math.pi))**pl_factor_for_v2v\n",
    "    for k in range(1,number_of_flows+1):\n",
    "        for u in range(1,number_of_uavs+1):\n",
    "            num=kv*dbm_to_watts(transmission_power)*dBi_to_linear_scale(maximum_antenna_gain)*(distance_v2u[k, u]**(-pl_factor_for_v2v))*small_scale_power_fading_matrix_v2u[k, u]\n",
    "            denom=dbm_to_watts(background_noise*system_bandwidth)\n",
    "            sinr_v2u[k, u]=num/denom\n",
    "            datarate_v2u[k, u]=transceiver_efficiency*system_bandwidth*(math.log1p(sinr_v2u[k, u]) / math.log(2))"
   ]
  },
  {
   "cell_type": "markdown",
   "metadata": {},
   "source": [
    "# RI (Relative Interference)"
   ]
  },
  {
   "cell_type": "markdown",
   "metadata": {},
   "source": [
    "![RI1](pictures/ri1.png) "
   ]
  },
  {
   "cell_type": "code",
   "execution_count": 21,
   "metadata": {},
   "outputs": [],
   "source": [
    "def calculate_relative_intereference1():\n",
    "    num = dbm_to_watts(background_noise*system_bandwidth) + calculate_rsi()\n",
    "    denom = transmission_power\n",
    "    return num / denom"
   ]
  },
  {
   "cell_type": "markdown",
   "metadata": {},
   "source": [
    "![RI2](pictures/ri2.png) "
   ]
  },
  {
   "cell_type": "code",
   "execution_count": 22,
   "metadata": {},
   "outputs": [],
   "source": [
    "def calculate_relative_intereference2(sender,receiver):\n",
    "    num = dbm_to_watts(background_noise*system_bandwidth) + received_signal_power_matrix[receiver,sender]\n",
    "    denom = transmission_power\n",
    "    return num / denom"
   ]
  },
  {
   "cell_type": "markdown",
   "metadata": {},
   "source": [
    "# For calculation of number of slots per flow is estimated here"
   ]
  },
  {
   "cell_type": "code",
   "execution_count": null,
   "metadata": {},
   "outputs": [],
   "source": [
    "# number_of_slots_consumed_by_flow = np.zeros((number_of_flows+1))\n",
    "# datarate = calculate_sinr_and_datarate_v2v()[1]\n",
    "# for i in range (1,number_of_flows+1):\n",
    "#     flow_throughput = random.uniform(0.1, 1)    \n",
    "#     number_of_slots_consumed_by_flow[i] = math.ceil((flow_throughput * number_of_time_slots) / datarate[i])\n"
   ]
  },
  {
   "cell_type": "code",
   "execution_count": null,
   "metadata": {},
   "outputs": [],
   "source": []
  }
 ],
 "metadata": {
  "accelerator": "GPU",
  "colab": {
   "gpuType": "T4",
   "provenance": []
  },
  "kernelspec": {
   "display_name": "Python 3 (ipykernel)",
   "language": "python",
   "name": "python3"
  },
  "language_info": {
   "codemirror_mode": {
    "name": "ipython",
    "version": 3
   },
   "file_extension": ".py",
   "mimetype": "text/x-python",
   "name": "python",
   "nbconvert_exporter": "python",
   "pygments_lexer": "ipython3",
   "version": "3.12.2"
  }
 },
 "nbformat": 4,
 "nbformat_minor": 4
}
