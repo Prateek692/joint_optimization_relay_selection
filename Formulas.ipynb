{
 "cells": [
  {
   "cell_type": "code",
   "execution_count": 1,
   "metadata": {
    "id": "whAjB2P-bK44"
   },
   "outputs": [],
   "source": [
    "import numpy as np\n",
    "import pandas as pd\n",
    "import matplotlib.pyplot as plt\n",
    "import math\n",
    "from scipy.special import iv"
   ]
  },
  {
   "cell_type": "code",
   "execution_count": 2,
   "metadata": {
    "colab": {
     "base_uri": "https://localhost:8080/"
    },
    "id": "SAIcxkTamNf7",
    "outputId": "89838e5a-c4ed-41e4-91ce-41467b2ddb88"
   },
   "outputs": [
    {
     "name": "stdout",
     "output_type": "stream",
     "text": [
      "Lassi\n"
     ]
    }
   ],
   "source": [
    "print('Lassi')"
   ]
  },
  {
   "cell_type": "markdown",
   "metadata": {},
   "source": [
    "![FORMULA](formula.png) "
   ]
  },
  {
   "cell_type": "code",
   "execution_count": 3,
   "metadata": {},
   "outputs": [],
   "source": [
    "# Quantities declaration\n",
    "c=300000000\n",
    "carrier_frequency=30\n",
    "wavelength=c/(carrier_frequency*(10**9)) #Becuase freq in ghz\n",
    "number_of_flows=80\n",
    "number_of_time_slots=2000\n",
    "slot_duration=0.1\n",
    "fading_depth=2\n",
    "background_noise=-134\n",
    "system_bandwidth=2000\n",
    "transmission_power=40\n",
    "average_power_of_uav=30\n",
    "peak_power_of_uav=2*average_power_of_uav\n",
    "transceiver_efficiency=0.8\n",
    "height_of_uav=100\n",
    "speed_of_uav=20\n",
    "pl_factor_for_v2v=2.5\n",
    "pl_factor_for_u2v=2\n",
    "rician_k_factor=9\n",
    "interference_threshold=1/(10**3)\n",
    "si_cancellation_level=1/(10**9)\n",
    "maximum_antenna_gain=20\n",
    "half_power_beamwidth=30\n",
    "total_power = 1\n",
    "number_of_uavs = 10\n",
    "distance_u2v=np.zeros((number_of_uavs+1, number_of_flows+1))\n",
    "distance_v2u=np.zeros((number_of_flows+1, number_of_uavs+1))\n",
    "small_scale_power_fading_matrix_u2v = np.zeros((number_of_uavs+1, number_of_flows+1))\n",
    "small_scale_power_fading_matrix_v2u = np.zeros((number_of_flows+1, number_of_uavs+1))\n",
    "channel_power_gain_matrix=np.zeros((number_of_flows+1, number_of_flows+1))\n",
    "received_signal_power_matrix=np.zeros((number_of_flows+1, number_of_flows+1))\n",
    "distance_matrix=np.zeros((number_of_flows+1, number_of_flows+1))\n",
    "# 2-D Binary Matrices\n",
    "a_v2v=np.zeros((number_of_flows+1, number_of_flows+1))\n",
    "b_v2v=np.zeros((number_of_flows+1, number_of_flows+1))\n",
    "a_u2v=np.zeros((number_of_flows+1, number_of_flows+1))\n",
    "b_u2v=np.zeros((number_of_flows+1, number_of_flows+1))"
   ]
  },
  {
   "cell_type": "code",
   "execution_count": 4,
   "metadata": {},
   "outputs": [],
   "source": [
    "def section_formula(x1, y1, x2, y2, m, n):\n",
    "    Px = (m * x2 + n * x1) / (m + n)\n",
    "    Py = (m * y2 + n * y1) / (m + n)\n",
    "    return Px, Py"
   ]
  },
  {
   "cell_type": "code",
   "execution_count": 5,
   "metadata": {
    "id": "ZRvbMN90kw-3"
   },
   "outputs": [],
   "source": [
    "def calculate_antenna_gain(direction: float): #To be implemented\n",
    "    deduction=min((direction/half_power_beamwidth)**2,26)\n",
    "    gain=maximum_antenna_gain-deduction\n",
    "    return maximum_antenna_gain"
   ]
  },
  {
   "cell_type": "code",
   "execution_count": 6,
   "metadata": {
    "id": "DVcRv2bOmcSj"
   },
   "outputs": [],
   "source": [
    "# g here is channel power gain and m is parameter for Gama pehelwan function\n",
    "def calculate_channel_power_gain_distribution():\n",
    "    for i in range(1,number_of_flows+1):\n",
    "        for j in range(1,number_of_flows+1):\n",
    "            channel_power_gain_matrix[i, j]=np.random.gamma(shape=fading_depth, scale=1/fading_depth)"
   ]
  },
  {
   "cell_type": "code",
   "execution_count": 7,
   "metadata": {
    "id": "4psn3qYYpiFj"
   },
   "outputs": [],
   "source": [
    "def calculate_received_signal_power_direct_link(i):\n",
    "    kv=(wavelength/(4*math.pi))**pl_exponent\n",
    "    signal_power=kv*transmission_power*maximum_antenna_gain*channel_power_gain_matrix[i, i]*(distance_matrix[i, i]**(-pl_exponent))\n",
    "    return signal_power"
   ]
  },
  {
   "cell_type": "code",
   "execution_count": 8,
   "metadata": {
    "id": "44Gbliucx1ac"
   },
   "outputs": [],
   "source": [
    "def calculate_mutual_interference(j, i):\n",
    "    kv=(wavelength/(4*math.pi))**pl_exponent\n",
    "    signal_power=kv*transmission_power*calculate_antenna_gain(0)*channel_power_gain_matrix[j, i]*(distance_matrix[j, i]**(-pl_exponent))\n",
    "    return signal_power"
   ]
  },
  {
   "cell_type": "code",
   "execution_count": 9,
   "metadata": {},
   "outputs": [],
   "source": [
    "def calculate_received_signal_power():\n",
    "    for i in range(number_of_flows):\n",
    "        for j in range(number_of_flows):\n",
    "            if i==j:\n",
    "                received_signal_power_matrix[i, i]=calculate_received_signal_power_direct_link(i)\n",
    "            else:\n",
    "                received_signal_power_matrix[j, i]=calculate_mutual_interference(j, i)  "
   ]
  },
  {
   "cell_type": "code",
   "execution_count": 10,
   "metadata": {},
   "outputs": [],
   "source": [
    "# beta= cancellation level\n",
    "def calculate_rsi():\n",
    "    return si_cancellation_level*transmission_power"
   ]
  },
  {
   "cell_type": "code",
   "execution_count": 11,
   "metadata": {},
   "outputs": [],
   "source": [
    "# n=no of flows, n0 = noise power spectral density, w = channel bandwidth\n",
    "# eta= efficiency\n",
    "def calculate_sinr_and_datarate_v2v():\n",
    "    rsi = calculate_rsi()\n",
    "    sinr=np.empty(number_of_flows+1)\n",
    "    datarate=np.empty(number_of_flows+1)\n",
    "    for i in range(1,number_of_flows+1):\n",
    "        num=received_signal_power_matrix[i, i]\n",
    "        denom=background_noise*system_bandwidth\n",
    "        for j in range(1,number_of_flows+1):\n",
    "            if j==i:\n",
    "                continue\n",
    "            denom+=(a[j, i]*received_signal_power_matrix[j, i])+(b[j, i]*rsi)\n",
    "        sinr[i]=num/denom\n",
    "        datarate[i]=transceiver_efficiency*system_bandwidth*math.log2(1+sinr[i])\n",
    "    return sinr,datarate"
   ]
  },
  {
   "cell_type": "code",
   "execution_count": 12,
   "metadata": {},
   "outputs": [],
   "source": [
    "def calculate_non_central_chi_square_distribution(small_scale_power_fading, total_power):\n",
    "    ans=(rician_k_factor + 1)*np.exp(-rician_k_factor)*np.exp(-(rician_k_factor+1)*small_scale_power_fading/total_power)\n",
    "    ans*=iv(0, 2*np.sqrt(rician_k_factor*(rician_k_factor+1)*small_scale_power_fading/total_power))/total_power\n",
    "    return ans"
   ]
  },
  {
   "cell_type": "code",
   "execution_count": 13,
   "metadata": {},
   "outputs": [],
   "source": [
    "def calculate_small_scale_power_fading():\n",
    "    for i in range(1,number_of_uavs+1):\n",
    "        for j in range(1,number_of_flows+1):\n",
    "            small_scale_power_fading = np.random.uniform(0, np.inf)\n",
    "            small_scale_power_fading_matrix_u2v[i, j] = calculate_non_central_chi_square_distribution(small_scale_power_fading, total_power)\n",
    "            \n",
    "            small_scale_power_fading = np.random.uniform(0, np.inf)\n",
    "            small_scale_power_fading_matrix_v2u[j, i] = calculate_non_central_chi_square_distribution(small_scale_power_fading, total_power)"
   ]
  },
  {
   "cell_type": "code",
   "execution_count": 14,
   "metadata": {},
   "outputs": [],
   "source": [
    "def calculate_sinr_and_datarate_u2v(transmit_power_uav):\n",
    "    rsi = calculate_rsi()\n",
    "    sinr=np.empty((number_of_uavs+1,number_of_flows+1))\n",
    "    datarate=np.empty((number_of_uavs+1, number_of_flows+1))\n",
    "    ku=(wavelength/(4*math.pi))**pl_factor_for_u2v\n",
    "    \n",
    "    for u in range(1, number_of_uavs+1):\n",
    "        for k in range(1,number_of_flows+1):\n",
    "            num=ku*transmit_power_uav*maximum_antenna_gain*(distance_u2v[u, k]**(-pl_factor_for_u2v))*small_scale_power_fading_matrix_u2v[u, k]\n",
    "            denom=background_noise*system_bandwidth\n",
    "            for w in range(1,number_of_flows+1):\n",
    "                if w==k:\n",
    "                    continue\n",
    "                denom+=(a[w, k]*received_signal_power_matrix[w, k])+(b[w, k]*rsi)\n",
    "            sinr[u, k]=num/denom\n",
    "            datarate[u, k]=transceiver_efficiency*system_bandwidth*math.log2(1+sinr[u, k])\n",
    "            \n",
    "    return sinr,datarate"
   ]
  },
  {
   "cell_type": "code",
   "execution_count": 15,
   "metadata": {},
   "outputs": [],
   "source": [
    "def calculate_sinr_and_datarate_v2u():\n",
    "    sinr=np.empty((number_of_flows+1, number_of_uavs))\n",
    "    datarate=np.empty((number_of_flows+1, number_of_uavs))\n",
    "    kv=(wavelength/(4*math.pi))**pl_factor_for_v2v\n",
    "    \n",
    "    for k in range(1,number_of_flows+1):\n",
    "        for u in range(1,number_of_uavs+1):\n",
    "            num=kv*transmission_power*maximum_antenna_gain*(distance_v2u[u, k]**(-pl_factor_for_v2v))*small_scale_power_fading_matrix_v2u[k, u]\n",
    "            denom=background_noise*system_bandwidth\n",
    "            sinr[k, u]=num/denom\n",
    "            datarate[k, u]=transceiver_efficiency*system_bandwidth*math.log2(1+sinr[k, u])\n",
    "    \n",
    "    return sinr,datarate"
   ]
  }
 ],
 "metadata": {
  "accelerator": "GPU",
  "colab": {
   "gpuType": "T4",
   "provenance": []
  },
  "kernelspec": {
   "display_name": "Python 3 (ipykernel)",
   "language": "python",
   "name": "python3"
  },
  "language_info": {
   "codemirror_mode": {
    "name": "ipython",
    "version": 3
   },
   "file_extension": ".py",
   "mimetype": "text/x-python",
   "name": "python",
   "nbconvert_exporter": "python",
   "pygments_lexer": "ipython3",
   "version": "3.9.12"
  }
 },
 "nbformat": 4,
 "nbformat_minor": 4
}
