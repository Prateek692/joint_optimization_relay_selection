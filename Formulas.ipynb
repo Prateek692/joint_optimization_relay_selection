{
 "cells": [
  {
   "cell_type": "code",
   "execution_count": 1,
   "metadata": {
    "id": "whAjB2P-bK44"
   },
   "outputs": [],
   "source": [
    "import numpy as np\n",
    "import pandas as pd\n",
    "import matplotlib.pyplot as plt\n",
    "import math\n",
    "import random\n",
    "from scipy.special import iv"
   ]
  },
  {
   "cell_type": "markdown",
   "metadata": {},
   "source": [
    "# Some Conversion functions "
   ]
  },
  {
   "cell_type": "code",
   "execution_count": 2,
   "metadata": {},
   "outputs": [],
   "source": [
    "def dBm_to_watts(dBm):\n",
    "    # Converts dBm (decibels relative to one milliwatt) to Watts\n",
    "    return 10 ** (dBm / 10) / 1000\n",
    "    \n",
    "def watts_to_dBm(watts):\n",
    "    # Converts Watts to dBm (decibels relative to one milliwatt)\n",
    "    return 10 * math.log10(1000 * watts)\n",
    "\n",
    "def dB_to_linear_scale(dB):\n",
    "    # Converts dB (decibels) to linear scale\n",
    "    return 10 ** (dB / 10)\n",
    "\n",
    "def linear_scale_to_dB(linear_scale):\n",
    "    # Converts linear scale to dB (decibels).\n",
    "    return 10 * math.log10(linear_scale)\n",
    "    \n",
    "def convert_mega(value):\n",
    "    # Converts from mega\n",
    "    return 10 ** 6 * value\n",
    "\n",
    "def convert_giga(value):\n",
    "    # Converts from giga\n",
    "    return 10 ** 9 * value"
   ]
  },
  {
   "cell_type": "markdown",
   "metadata": {},
   "source": [
    "![FORMULA](pictures/formula.png) "
   ]
  },
  {
   "cell_type": "markdown",
   "metadata": {},
   "source": [
    "# Quantities declaration"
   ]
  },
  {
   "cell_type": "code",
   "execution_count": 3,
   "metadata": {},
   "outputs": [],
   "source": [
    "c = convert_giga(0.3)\n",
    "carrier_frequency = convert_giga(30)\n",
    "wavelength = c / carrier_frequency\n",
    "number_of_flows = 80\n",
    "number_of_time_slots = 2000\n",
    "slot_duration = 0.1\n",
    "fading_depth = 2\n",
    "background_noise = dBm_to_watts(-134) / convert_mega(1)\n",
    "system_bandwidth = convert_mega(2000)\n",
    "transmission_power = dBm_to_watts(40)\n",
    "average_power_of_uav = dBm_to_watts(30)\n",
    "peak_power_of_uav = 2 * average_power_of_uav\n",
    "transceiver_efficiency = 0.8\n",
    "average_velocity_vehicle = 28\n",
    "height_of_uav = 100\n",
    "speed_of_uav = 20\n",
    "radius_of_uav = 5\n",
    "transmit_power_uav = dBm_to_watts(30)\n",
    "coverage_radius = 500\n",
    "pl_factor_for_v2v = 2.5\n",
    "pl_factor_for_u2v = 2\n",
    "rician_k_factor = dB_to_linear_scale(9)\n",
    "interference_threshold = 10 ** -3\n",
    "si_cancellation_level = 10 ** -9\n",
    "maximum_antenna_gain = dB_to_linear_scale(20)\n",
    "half_power_beamwidth = 30\n",
    "total_power = 1\n",
    "number_of_uavs = 3\n",
    "distance_u2v = np.zeros((number_of_uavs + 1, number_of_flows + 1))\n",
    "distance_v2u = np.zeros((number_of_flows + 1, number_of_uavs + 1))\n",
    "small_scale_power_fading_matrix_u2v = np.zeros((number_of_uavs + 1, number_of_flows + 1))\n",
    "small_scale_power_fading_matrix_v2u = np.zeros((number_of_flows + 1, number_of_uavs + 1))\n",
    "channel_power_gain_matrix = np.zeros((number_of_flows + 1, number_of_flows + 1))\n",
    "received_signal_power_matrix = np.zeros((number_of_flows + 1, number_of_flows + 1))\n",
    "distance_matrix = np.zeros((number_of_flows + 1, number_of_flows + 1))\n",
    "number_of_slots_for_each_flow = np.zeros(number_of_flows + 1)\n",
    "# 2-D Binary Matrices\n",
    "a_v2v = np.ones((number_of_flows + 1, number_of_flows + 1))\n",
    "b_v2v = np.ones((number_of_flows + 1, number_of_flows + 1))\n",
    "a_u2v = np.ones((number_of_flows + 1, number_of_flows + 1))\n",
    "b_u2v = np.ones((number_of_flows + 1, number_of_flows + 1))\n",
    "# Sinr and datarates\n",
    "\n",
    "sinr_v2u = np.zeros((number_of_flows + 1, number_of_uavs + 1))\n",
    "sinr_u2v = np.zeros((number_of_uavs + 1, number_of_flows + 1))\n",
    "\n",
    "datarate_v2u = np.zeros((number_of_flows + 1, number_of_uavs + 1))\n",
    "datarate_u2v = np.zeros((number_of_uavs + 1, number_of_flows + 1))\n",
    "datarate_without_interference = np.zeros(number_of_flows + 1)"
   ]
  },
  {
   "cell_type": "code",
   "execution_count": 4,
   "metadata": {},
   "outputs": [],
   "source": [
    "def generate_exponential_random_variable(rate):\n",
    "    \"\"\"Generate a random variable following an exponential distribution with given rate.\"\"\"\n",
    "    return -math.log(1.0 - random.random()) / rate"
   ]
  },
  {
   "cell_type": "code",
   "execution_count": 18,
   "metadata": {},
   "outputs": [],
   "source": [
    "def simulate_vehicle_arrivals(v = average_velocity_vehicle, simulation_time = (number_of_time_slots * slot_duration), max_vehicles_per_lane=60):\n",
    "    \n",
    "    # lambda_rate = v * 2  # Arrival rate (vehicles per second)\n",
    "    lambda_rate = 0.1 * 2\n",
    "    \n",
    "    arrival_times = []\n",
    "    positions = []\n",
    "    current_times = [0, 0, 0]  # Track current time for each lane\n",
    "    current_positions = [0, 0, 0]  # Track current position for each lane\n",
    "    vehicle_counts = [0, 0, 0]  # Track the number of vehicles in each lane\n",
    "    \n",
    "    while min(current_times) < simulation_time and sum(vehicle_counts) < max_vehicles_per_lane * 3:\n",
    "        # Generate next inter-arrival time\n",
    "        inter_arrival_time = generate_exponential_random_variable(0.2)\n",
    "        \n",
    "        # Choose a random lane for the current vehicle\n",
    "        lane = random.randint(1, 3)\n",
    "        lane_index = lane - 1\n",
    "        \n",
    "        # Check if the chosen lane has reached the maximum number of vehicles\n",
    "        if vehicle_counts[lane_index] >= max_vehicles_per_lane:\n",
    "            continue\n",
    "        \n",
    "        current_times[lane_index] += inter_arrival_time\n",
    "        \n",
    "        if current_times[lane_index] > simulation_time:\n",
    "            break\n",
    "        \n",
    "        # Calculate safe distance for the current vehicle\n",
    "        d_n = generate_exponential_random_variable(lambda_rate)\n",
    "        safe_distance = max(2, d_n)\n",
    "        \n",
    "        # Update position in the chosen lane\n",
    "        current_positions[lane_index] += safe_distance\n",
    "        \n",
    "        # Record arrival time, lane, and position\n",
    "        arrival_times.append(current_times[lane_index])\n",
    "        positions.append((lane, current_positions[lane_index]))\n",
    "        vehicle_counts[lane_index] += 1\n",
    "    \n",
    "    return list(zip(arrival_times, positions))\n"
   ]
  },
  {
   "cell_type": "code",
   "execution_count": 4,
   "metadata": {},
   "outputs": [],
   "source": [
    "#Random Throughputs for each flow between [0.1,1] GBPS\n",
    "throughputs = convert_giga(np.random.uniform(0.1, 1, size = number_of_flows + 1))"
   ]
  },
  {
   "cell_type": "code",
   "execution_count": 5,
   "metadata": {},
   "outputs": [],
   "source": [
    "def euclidean_distance(x1, y1, x2, y2):\n",
    "    return math.sqrt((x2 - x1) ** 2 + (y2 - y1) ** 2)"
   ]
  },
  {
   "cell_type": "code",
   "execution_count": 6,
   "metadata": {},
   "outputs": [],
   "source": [
    "# Calculating segmentation point of line using section formula\n",
    "def section_formula(x1, y1, x2, y2, m, n):\n",
    "    Px = (m * x2 + n * x1) / (m + n)\n",
    "    Py = (m * y2 + n * y1) / (m + n)\n",
    "    return Px, Py"
   ]
  },
  {
   "cell_type": "code",
   "execution_count": 7,
   "metadata": {
    "id": "ZRvbMN90kw-3"
   },
   "outputs": [],
   "source": [
    "def calculate_antenna_gain(direction): #To be implemented. Angle is ambiguous\n",
    "    # deduction=min((direction/half_power_beamwidth)**2,26)\n",
    "    # gain=maximum_antenna_gain-deduction\n",
    "    return maximum_antenna_gain"
   ]
  },
  {
   "cell_type": "code",
   "execution_count": 8,
   "metadata": {
    "id": "DVcRv2bOmcSj"
   },
   "outputs": [],
   "source": [
    "# Generating channel power gain distribution\n",
    "def calculate_channel_power_gain_distribution():\n",
    "    return np.random.gamma(shape = fading_depth, scale = 1 / fading_depth)\n",
    "\n",
    "#     for i in range(1, number_of_flows + 1):\n",
    "#         for j in range(1, number_of_flows + 1):\n",
    "#             channel_power_gain_matrix[i, j] = np.random.gamma(shape = fading_depth, scale = 1 / fading_depth)"
   ]
  },
  {
   "cell_type": "code",
   "execution_count": 9,
   "metadata": {
    "id": "4psn3qYYpiFj"
   },
   "outputs": [],
   "source": [
    "# Calculating received signal power from direct link\n",
    "def calculate_received_signal_power_direct_link(distance):\n",
    "    kv = (wavelength / (4 * math.pi)) ** pl_factor_for_v2v\n",
    "    signal_power = kv * transmission_power * maximum_antenna_gain * calculate_channel_power_gain_distribution() * (distance ** (-pl_factor_for_v2v))\n",
    "    return signal_power"
   ]
  },
  {
   "cell_type": "code",
   "execution_count": 10,
   "metadata": {
    "id": "44Gbliucx1ac"
   },
   "outputs": [],
   "source": [
    "# Mutual interference between 2 flows\n",
    "def calculate_mutual_interference(distance):\n",
    "    kv = (wavelength / (4 * math.pi)) ** pl_factor_for_v2v\n",
    "    signal_power = kv * transmission_power * calculate_antenna_gain(0) * calculate_channel_power_gain_distribution() * (distance ** (-pl_factor_for_v2v))\n",
    "    return signal_power"
   ]
  },
  {
   "cell_type": "code",
   "execution_count": 11,
   "metadata": {},
   "outputs": [],
   "source": [
    "# Storing values of received signal power for each flow in a 2D matrix\n",
    "def calculate_received_signal_power():\n",
    "    for i in range(1, number_of_flows + 1):\n",
    "        for j in range(1, number_of_flows + 1):\n",
    "            if i == j:\n",
    "                received_signal_power_matrix[i, i] = calculate_received_signal_power_direct_link(i)\n",
    "            else:\n",
    "                received_signal_power_matrix[j, i] = calculate_mutual_interference(j, i)  "
   ]
  },
  {
   "cell_type": "code",
   "execution_count": 12,
   "metadata": {},
   "outputs": [],
   "source": [
    "# SI cancellation level calculation\n",
    "def calculate_rsi():\n",
    "    return si_cancellation_level * transmission_power"
   ]
  },
  {
   "cell_type": "code",
   "execution_count": 13,
   "metadata": {},
   "outputs": [],
   "source": [
    "# SINR and Datarate calculation for v2v links\n",
    "def calculate_sinr_and_datarate_v2v(group):\n",
    "    number_of_flows_in_group = len(group)\n",
    "    sinr_v2v = np.zeros(number_of_flows_in_group + 1)\n",
    "    datarate_v2v = np.zeros(number_of_flows_in_group + 1)\n",
    "    rsi = calculate_rsi()\n",
    "    for i in range(1, number_of_flows_in_group + 1):\n",
    "        flow_index_i = group[i]\n",
    "        num = received_signal_power_matrix[flow_index_i, flow_index_i]\n",
    "        denom = background_noise * system_bandwidth\n",
    "        for j in range(1, number_of_flows_in_group + 1):\n",
    "            if j == i:\n",
    "                continue\n",
    "            flow_index_j = group[j]\n",
    "            denom += (a_v2v[flow_index_j, flow_index_i] * received_signal_power_matrix[flow_index_j, flow_index_i]) + (b_v2v[flow_index_j, flow_index_i] * rsi)\n",
    "        sinr_v2v[i] = num / denom\n",
    "        datarate_v2v[i] = transceiver_efficiency * system_bandwidth * (math.log1p(sinr_v2v[i]) / math.log(2))\n",
    "        return sinr_v2v , datarate_v2v"
   ]
  },
  {
   "cell_type": "code",
   "execution_count": 14,
   "metadata": {},
   "outputs": [],
   "source": [
    "# Function for generating non central chi square distribution \n",
    "def calculate_non_central_chi_square_distribution(small_scale_power_fading, total_power):\n",
    "    ans = (rician_k_factor + 1) * np.exp(-rician_k_factor) * np.exp(-(rician_k_factor + 1) * small_scale_power_fading / total_power)\n",
    "    ans *= iv(0, 2 * np.sqrt(rician_k_factor * (rician_k_factor + 1) * small_scale_power_fading / total_power)) / total_power\n",
    "    return ans"
   ]
  },
  {
   "cell_type": "code",
   "execution_count": 15,
   "metadata": {},
   "outputs": [],
   "source": [
    "# Calculating small scale power fading using non central chi square distribution\n",
    "def calculate_small_scale_power_fading():\n",
    "    small_scale_power_fading = np.random.uniform(0,0.5)\n",
    "    return calculate_non_central_chi_square_distribution(small_scale_power_fading, total_power)"
   ]
  },
  {
   "cell_type": "code",
   "execution_count": 16,
   "metadata": {},
   "outputs": [],
   "source": [
    "# SINR and Datarate calculation for u2v links\n",
    "def calculate_sinr_and_datarate_u2v(group,uavs_in_group):\n",
    "    number_of_flows_in_group = len(group)\n",
    "    number_of_uavs_in_group = len(uavs_in_group)\n",
    "    sinr_u2v = np.zeros((number_of_uavs_in_group + 1, number_of_flows_in_group + 1))\n",
    "    datarate_u2v = np.zeros((number_of_uavs_in_group + 1, number_of_flows_in_group + 1))\n",
    "    rsi = calculate_rsi()\n",
    "    ku = (wavelength / (4 * math.pi)) ** pl_factor_for_u2v\n",
    "    for u in range(1, number_of_uavs_in_group + 1):\n",
    "        uav_u = uavs_in_group[u]\n",
    "        for k in range(1, number_of_flows_in_group + 1):\n",
    "            flow_k = group[k]\n",
    "            num = ku * transmit_power_uav * maximum_antenna_gain * (distance_u2v[uav_u, flow_k] ** (-pl_factor_for_u2v)) * small_scale_power_fading_matrix_u2v[uav_u, flow_k]\n",
    "            denom = background_noise * system_bandwidth\n",
    "            for w in range(1, number_of_flows_in_group + 1):\n",
    "                if w == k:\n",
    "                    continue\n",
    "                flow_w = group[w]\n",
    "                denom += (a_u2v[flow_w, flow_k] * received_signal_power_matrix[flow_w, flow_k]) + (b_u2v[flow_w, flow_k] * rsi)\n",
    "            sinr_u2v[u, k] = num / denom\n",
    "            datarate_u2v[u, k] = transceiver_efficiency * system_bandwidth * (math.log1p(sinr_u2v[u, k]) / math.log(2))\n",
    "    return sinr_u2v,datarate_u2v"
   ]
  },
  {
   "cell_type": "code",
   "execution_count": 17,
   "metadata": {},
   "outputs": [],
   "source": [
    "# SINR and Datarate calculation for v2u links\n",
    "def calculate_sinr_and_datarate_v2u(group,uavs_in_group):\n",
    "    number_of_flows_in_group = len(group)\n",
    "    number_of_uavs_in_group = len(uavs_in_group)\n",
    "    sinr_v2u = np.zeros((number_of_flows_in_group + 1, number_of_uavs_in_group + 1))\n",
    "    datarate_v2u = np.zeros((number_of_flows_in_group + 1, number_of_uavs_in_group + 1))\n",
    "    kv = (wavelength / (4 * math.pi)) ** pl_factor_for_v2v\n",
    "    for k in range(1, number_of_flows_in_group + 1):\n",
    "        flow_k = group[k]\n",
    "        for u in range(1, number_of_uavs_in_group + 1):\n",
    "            uav_u = uavs_in_group[u]\n",
    "            num = kv * transmission_power * maximum_antenna_gain * (distance_v2u[flow_k, uav_u] ** (-pl_factor_for_v2v)) * small_scale_power_fading_matrix_v2u[flow_k, uav_u]\n",
    "            denom = background_noise * system_bandwidth\n",
    "            sinr_v2u[k, u] = num / denom\n",
    "            datarate_v2u[k, u] = transceiver_efficiency * system_bandwidth * (math.log1p(sinr_v2u[k, u]) / math.log(2))"
   ]
  },
  {
   "cell_type": "code",
   "execution_count": 18,
   "metadata": {},
   "outputs": [],
   "source": [
    "def calculate_sinr(num, denom):\n",
    "    return num / denom"
   ]
  },
  {
   "cell_type": "code",
   "execution_count": 19,
   "metadata": {},
   "outputs": [],
   "source": [
    "def calculate_data_rate(num, denom):\n",
    "    return int(transceiver_efficiency * system_bandwidth * (math.log1p(calculate_sinr(num, denom)) / math.log(2)))"
   ]
  },
  {
   "cell_type": "markdown",
   "metadata": {},
   "source": [
    "# RI (Relative Interference)"
   ]
  },
  {
   "cell_type": "markdown",
   "metadata": {},
   "source": [
    "![RI1](pictures/ri1.png) "
   ]
  },
  {
   "cell_type": "code",
   "execution_count": 20,
   "metadata": {},
   "outputs": [],
   "source": [
    "def calculate_relative_interference1():\n",
    "    num = background_noise * system_bandwidth + calculate_rsi()\n",
    "    denom = transmission_power\n",
    "    return num / denom"
   ]
  },
  {
   "cell_type": "markdown",
   "metadata": {},
   "source": [
    "![RI2](pictures/ri2.png) "
   ]
  },
  {
   "cell_type": "code",
   "execution_count": 21,
   "metadata": {},
   "outputs": [],
   "source": [
    "def calculate_relative_interference2(sender, receiver):\n",
    "    num = background_noise * system_bandwidth + calculate_mutual_interference(euclidean_distance(sender.calculate_position(0), receiver.calculate_position(0)))\n",
    "    denom = transmission_power\n",
    "    return num / denom"
   ]
  },
  {
   "cell_type": "markdown",
   "metadata": {},
   "source": [
    "# Data Rate without interference"
   ]
  },
  {
   "cell_type": "code",
   "execution_count": 22,
   "metadata": {},
   "outputs": [],
   "source": [
    "# Calculating by eliminating MUI and SI from denominator and using Shannon's capacity formula\n",
    "def calculate_datarate_without_interference(flows):\n",
    "    for i in range(1, number_of_flows + 1):\n",
    "        sender = flows[i][0]\n",
    "        receiver = flows[i][1]\n",
    "        snr = calculate_received_signal_power_direct_link(euclidean_distance(*sender.calculate_position(0), *receiver.calculate_position(0))) / (background_noise * system_bandwidth)\n",
    "        datarate_without_interference[i] = transceiver_efficiency * system_bandwidth * (math.log1p(snr) / math.log(2))"
   ]
  },
  {
   "cell_type": "code",
   "execution_count": 19,
   "metadata": {},
   "outputs": [],
   "source": [
    "tempo = simulate_vehicle_arrivals()"
   ]
  },
  {
   "cell_type": "code",
   "execution_count": 20,
   "metadata": {},
   "outputs": [
    {
     "data": {
      "text/plain": [
       "[(0.9550880603824028, (1, 2)),\n",
       " (3.4709014975443493, (1, 4)),\n",
       " (13.830379336406317, (1, 6)),\n",
       " (23.486958448154944, (1, 8)),\n",
       " (1.9357077244232597, (2, 2)),\n",
       " (3.0322208014795935, (2, 4)),\n",
       " (15.717293993450076, (3, 2)),\n",
       " (35.92909894852134, (3, 4)),\n",
       " (42.53230823974782, (3, 6)),\n",
       " (55.98655145465345, (3, 8)),\n",
       " (24.9065977618596, (1, 10)),\n",
       " (29.922808015933697, (1, 12)),\n",
       " (67.35296597583957, (3, 10)),\n",
       " (32.619536889686316, (1, 14)),\n",
       " (9.09811243012355, (2, 6)),\n",
       " (67.57634958103765, (3, 12)),\n",
       " (15.395338442342211, (2, 8)),\n",
       " (22.497303273294285, (2, 10)),\n",
       " (32.84873952196376, (1, 16)),\n",
       " (25.188505680058057, (2, 12)),\n",
       " (32.210761821615975, (2, 14)),\n",
       " (32.54111821583457, (2, 16)),\n",
       " (67.63574710856751, (3, 14)),\n",
       " (72.01787573434541, (3, 16)),\n",
       " (72.24097362721771, (3, 18)),\n",
       " (36.692118533913174, (2, 18)),\n",
       " (73.14293050286467, (3, 20)),\n",
       " (47.44829452527623, (2, 20)),\n",
       " (75.94321156471463, (3, 22)),\n",
       " (52.26402550033077, (2, 22)),\n",
       " (81.00025946160612, (3, 24)),\n",
       " (36.83125658780358, (1, 18)),\n",
       " (39.37677900354227, (1, 20)),\n",
       " (89.8581668681931, (3, 26)),\n",
       " (55.57729191712538, (2, 24)),\n",
       " (57.805099980080605, (2, 26)),\n",
       " (50.536566973799026, (1, 22)),\n",
       " (58.80719705453032, (1, 24)),\n",
       " (58.46653706136618, (2, 28)),\n",
       " (91.86008176495353, (3, 28)),\n",
       " (59.809727865218285, (1, 26)),\n",
       " (62.962808046421834, (2, 30)),\n",
       " (62.33834528000938, (1, 28)),\n",
       " (94.18742287694434, (3, 30)),\n",
       " (96.78814547206278, (3, 32)),\n",
       " (77.65524156652349, (2, 32)),\n",
       " (65.81330004567818, (1, 30)),\n",
       " (82.09200907141096, (2, 34)),\n",
       " (104.67152637781408, (3, 34)),\n",
       " (82.06735695658614, (1, 32)),\n",
       " (83.57563122249418, (1, 34)),\n",
       " (88.44342071160354, (1, 36)),\n",
       " (90.34481308749471, (1, 38)),\n",
       " (107.97304529165896, (3, 36)),\n",
       " (111.32705830236924, (3, 38)),\n",
       " (117.03280227557092, (3, 40)),\n",
       " (120.53703245573872, (3, 42)),\n",
       " (129.9679207019267, (3, 44)),\n",
       " (134.11633534566153, (3, 46)),\n",
       " (137.65786626038522, (3, 48)),\n",
       " (92.88950699508922, (1, 40)),\n",
       " (137.7621248204804, (3, 50)),\n",
       " (145.95372366079792, (3, 52)),\n",
       " (157.74542708263075, (3, 54)),\n",
       " (164.93391180427014, (3, 56)),\n",
       " (85.27748293279063, (2, 36)),\n",
       " (97.33505531305282, (1, 42)),\n",
       " (165.1351628661357, (3, 58)),\n",
       " (166.70350581340665, (3, 60)),\n",
       " (99.37912782046267, (1, 44)),\n",
       " (172.1057270631071, (3, 62)),\n",
       " (101.3227205070368, (1, 46)),\n",
       " (103.14321184485797, (1, 48)),\n",
       " (86.03522408747, (2, 38)),\n",
       " (173.92373238228615, (3, 64)),\n",
       " (176.47997321967637, (3, 66)),\n",
       " (103.67663090724649, (1, 50)),\n",
       " (183.60505609576956, (3, 68)),\n",
       " (97.12303285182942, (2, 40)),\n",
       " (104.38656596544665, (1, 52)),\n",
       " (106.25530126163773, (2, 42)),\n",
       " (106.74008742518465, (2, 44)),\n",
       " (106.85327792242202, (1, 54)),\n",
       " (112.57813049871865, (2, 46)),\n",
       " (112.11837760173158, (1, 56)),\n",
       " (187.16625271777596, (3, 70)),\n",
       " (113.23309250380146, (1, 58)),\n",
       " (188.70084242166823, (3, 72)),\n",
       " (188.83852565804244, (3, 74)),\n",
       " (189.0904734137011, (3, 76)),\n",
       " (116.3952943384289, (1, 60)),\n",
       " (114.38571489615467, (2, 48)),\n",
       " (198.97661633776764, (3, 78)),\n",
       " (129.24386713377015, (1, 62)),\n",
       " (115.72630309052467, (2, 50)),\n",
       " (199.7336195225087, (3, 80))]"
      ]
     },
     "execution_count": 20,
     "metadata": {},
     "output_type": "execute_result"
    }
   ],
   "source": [
    "tempo"
   ]
  },
  {
   "cell_type": "code",
   "execution_count": 21,
   "metadata": {},
   "outputs": [
    {
     "data": {
      "text/plain": [
       "96"
      ]
     },
     "execution_count": 21,
     "metadata": {},
     "output_type": "execute_result"
    }
   ],
   "source": [
    "len(tempo)"
   ]
  },
  {
   "cell_type": "code",
   "execution_count": null,
   "metadata": {},
   "outputs": [],
   "source": []
  }
 ],
 "metadata": {
  "accelerator": "GPU",
  "colab": {
   "gpuType": "T4",
   "provenance": []
  },
  "kernelspec": {
   "display_name": "Python 3 (ipykernel)",
   "language": "python",
   "name": "python3"
  },
  "language_info": {
   "codemirror_mode": {
    "name": "ipython",
    "version": 3
   },
   "file_extension": ".py",
   "mimetype": "text/x-python",
   "name": "python",
   "nbconvert_exporter": "python",
   "pygments_lexer": "ipython3",
   "version": "3.12.2"
  }
 },
 "nbformat": 4,
 "nbformat_minor": 4
}
